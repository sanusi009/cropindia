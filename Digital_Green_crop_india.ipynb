{
  "cells": [
    {
      "cell_type": "code",
      "execution_count": null,
      "id": "3b9a2ee6",
      "metadata": {
        "id": "3b9a2ee6"
      },
      "outputs": [],
      "source": [
        "import warnings\n",
        "warnings.filterwarnings(\"ignore\")"
      ]
    },
    {
      "cell_type": "code",
      "execution_count": null,
      "id": "25a472ed",
      "metadata": {
        "id": "25a472ed"
      },
      "outputs": [],
      "source": [
        "import pandas as pd"
      ]
    },
    {
      "cell_type": "code",
      "execution_count": null,
      "id": "c080b90d",
      "metadata": {
        "id": "c080b90d"
      },
      "outputs": [],
      "source": [
        "def wrangle(filepath):\n",
        "    # Read CSV file\n",
        "    df = pd.read_csv(filepath)\n",
        "\n",
        "    df.drop(columns=[\"CropOrgFYM\", \"Ganaura\", \"2tdUrea\", \"2appDaysUrea\",], inplace=True)\n",
        "\n",
        "    # Drop NAN rows\n",
        "    #df.dropna(inplace=True)\n",
        "\n",
        "    return df"
      ]
    },
    {
      "cell_type": "code",
      "execution_count": null,
      "id": "f3d6f9dc",
      "metadata": {
        "id": "f3d6f9dc",
        "outputId": "1efc66b3-ad1c-49d6-bd49-8a799a6577c6"
      },
      "outputs": [
        {
          "name": "stdout",
          "output_type": "stream",
          "text": [
            "<class 'pandas.core.frame.DataFrame'>\n",
            "RangeIndex: 3870 entries, 0 to 3869\n",
            "Data columns (total 40 columns):\n",
            " #   Column                              Non-Null Count  Dtype  \n",
            "---  ------                              --------------  -----  \n",
            " 0   ID                                  3870 non-null   object \n",
            " 1   District                            3870 non-null   object \n",
            " 2   Block                               3870 non-null   object \n",
            " 3   CultLand                            3870 non-null   int64  \n",
            " 4   CropCultLand                        3870 non-null   int64  \n",
            " 5   LandPreparationMethod               3870 non-null   object \n",
            " 6   CropTillageDate                     3870 non-null   object \n",
            " 7   CropTillageDepth                    3870 non-null   int64  \n",
            " 8   CropEstMethod                       3870 non-null   object \n",
            " 9   RcNursEstDate                       3787 non-null   object \n",
            " 10  SeedingSowingTransplanting          3870 non-null   object \n",
            " 11  SeedlingsPerPit                     3581 non-null   float64\n",
            " 12  NursDetFactor                       3581 non-null   object \n",
            " 13  TransDetFactor                      3581 non-null   object \n",
            " 14  TransplantingIrrigationHours        3677 non-null   float64\n",
            " 15  TransplantingIrrigationSource       3755 non-null   object \n",
            " 16  TransplantingIrrigationPowerSource  3367 non-null   object \n",
            " 17  TransIrriCost                       2988 non-null   float64\n",
            " 18  StandingWater                       3632 non-null   float64\n",
            " 19  OrgFertilizers                      2535 non-null   object \n",
            " 20  PCropSolidOrgFertAppMethod          2533 non-null   object \n",
            " 21  NoFertilizerAppln                   3870 non-null   int64  \n",
            " 22  CropbasalFerts                      3682 non-null   object \n",
            " 23  BasalDAP                            3327 non-null   float64\n",
            " 24  BasalUrea                           2166 non-null   float64\n",
            " 25  MineralFertAppMethod                3870 non-null   object \n",
            " 26  FirstTopDressFert                   3385 non-null   object \n",
            " 27  1tdUrea                             3314 non-null   float64\n",
            " 28  1appDaysUrea                        3314 non-null   float64\n",
            " 29  MineralFertAppMethod.1              3389 non-null   object \n",
            " 30  Harv_method                         3870 non-null   object \n",
            " 31  Harv_date                           3870 non-null   object \n",
            " 32  Harv_hand_rent                      3618 non-null   float64\n",
            " 33  Threshing_date                      3870 non-null   object \n",
            " 34  Threshing_method                    3870 non-null   object \n",
            " 35  Residue_length                      3870 non-null   int64  \n",
            " 36  Residue_perc                        3870 non-null   int64  \n",
            " 37  Stubble_use                         3870 non-null   object \n",
            " 38  Acre                                3870 non-null   float64\n",
            " 39  Yield                               3870 non-null   int64  \n",
            "dtypes: float64(10), int64(7), object(23)\n",
            "memory usage: 1.2+ MB\n",
            "<class 'pandas.core.frame.DataFrame'>\n",
            "RangeIndex: 1290 entries, 0 to 1289\n",
            "Data columns (total 39 columns):\n",
            " #   Column                              Non-Null Count  Dtype  \n",
            "---  ------                              --------------  -----  \n",
            " 0   ID                                  1290 non-null   object \n",
            " 1   District                            1290 non-null   object \n",
            " 2   Block                               1290 non-null   object \n",
            " 3   CultLand                            1290 non-null   int64  \n",
            " 4   CropCultLand                        1290 non-null   int64  \n",
            " 5   LandPreparationMethod               1290 non-null   object \n",
            " 6   CropTillageDate                     1290 non-null   object \n",
            " 7   CropTillageDepth                    1290 non-null   int64  \n",
            " 8   CropEstMethod                       1290 non-null   object \n",
            " 9   RcNursEstDate                       1247 non-null   object \n",
            " 10  SeedingSowingTransplanting          1290 non-null   object \n",
            " 11  SeedlingsPerPit                     1187 non-null   float64\n",
            " 12  NursDetFactor                       1187 non-null   object \n",
            " 13  TransDetFactor                      1187 non-null   object \n",
            " 14  TransplantingIrrigationHours        1213 non-null   float64\n",
            " 15  TransplantingIrrigationSource       1244 non-null   object \n",
            " 16  TransplantingIrrigationPowerSource  1119 non-null   object \n",
            " 17  TransIrriCost                       973 non-null    float64\n",
            " 18  StandingWater                       1211 non-null   float64\n",
            " 19  OrgFertilizers                      875 non-null    object \n",
            " 20  PCropSolidOrgFertAppMethod          874 non-null    object \n",
            " 21  NoFertilizerAppln                   1290 non-null   int64  \n",
            " 22  CropbasalFerts                      1214 non-null   object \n",
            " 23  BasalDAP                            1099 non-null   float64\n",
            " 24  BasalUrea                           719 non-null    float64\n",
            " 25  MineralFertAppMethod                1290 non-null   object \n",
            " 26  FirstTopDressFert                   1141 non-null   object \n",
            " 27  1tdUrea                             1113 non-null   float64\n",
            " 28  1appDaysUrea                        1112 non-null   float64\n",
            " 29  MineralFertAppMethod.1              1144 non-null   object \n",
            " 30  Harv_method                         1290 non-null   object \n",
            " 31  Harv_date                           1290 non-null   object \n",
            " 32  Harv_hand_rent                      1217 non-null   float64\n",
            " 33  Threshing_date                      1290 non-null   object \n",
            " 34  Threshing_method                    1290 non-null   object \n",
            " 35  Residue_length                      1290 non-null   int64  \n",
            " 36  Residue_perc                        1290 non-null   int64  \n",
            " 37  Stubble_use                         1290 non-null   object \n",
            " 38  Acre                                1290 non-null   float64\n",
            "dtypes: float64(10), int64(6), object(23)\n",
            "memory usage: 393.2+ KB\n",
            "None None\n"
          ]
        },
        {
          "data": {
            "text/html": [
              "<div>\n",
              "<style scoped>\n",
              "    .dataframe tbody tr th:only-of-type {\n",
              "        vertical-align: middle;\n",
              "    }\n",
              "\n",
              "    .dataframe tbody tr th {\n",
              "        vertical-align: top;\n",
              "    }\n",
              "\n",
              "    .dataframe thead th {\n",
              "        text-align: right;\n",
              "    }\n",
              "</style>\n",
              "<table border=\"1\" class=\"dataframe\">\n",
              "  <thead>\n",
              "    <tr style=\"text-align: right;\">\n",
              "      <th></th>\n",
              "      <th>ID</th>\n",
              "      <th>District</th>\n",
              "      <th>Block</th>\n",
              "      <th>CultLand</th>\n",
              "      <th>CropCultLand</th>\n",
              "      <th>LandPreparationMethod</th>\n",
              "      <th>CropTillageDate</th>\n",
              "      <th>CropTillageDepth</th>\n",
              "      <th>CropEstMethod</th>\n",
              "      <th>RcNursEstDate</th>\n",
              "      <th>...</th>\n",
              "      <th>Harv_method</th>\n",
              "      <th>Harv_date</th>\n",
              "      <th>Harv_hand_rent</th>\n",
              "      <th>Threshing_date</th>\n",
              "      <th>Threshing_method</th>\n",
              "      <th>Residue_length</th>\n",
              "      <th>Residue_perc</th>\n",
              "      <th>Stubble_use</th>\n",
              "      <th>Acre</th>\n",
              "      <th>Yield</th>\n",
              "    </tr>\n",
              "  </thead>\n",
              "  <tbody>\n",
              "    <tr>\n",
              "      <th>0</th>\n",
              "      <td>ID_GTFAC7PEVWQ9</td>\n",
              "      <td>Nalanda</td>\n",
              "      <td>Noorsarai</td>\n",
              "      <td>45</td>\n",
              "      <td>40</td>\n",
              "      <td>TractorPlough FourWheelTracRotavator</td>\n",
              "      <td>2022-07-20</td>\n",
              "      <td>5</td>\n",
              "      <td>Manual_PuddledRandom</td>\n",
              "      <td>2022-06-27</td>\n",
              "      <td>...</td>\n",
              "      <td>machine</td>\n",
              "      <td>2022-11-16</td>\n",
              "      <td>NaN</td>\n",
              "      <td>2022-11-16</td>\n",
              "      <td>machine</td>\n",
              "      <td>30</td>\n",
              "      <td>40</td>\n",
              "      <td>plowed_in_soil</td>\n",
              "      <td>0.312500</td>\n",
              "      <td>600</td>\n",
              "    </tr>\n",
              "    <tr>\n",
              "      <th>1</th>\n",
              "      <td>ID_TK40ARLSPOKS</td>\n",
              "      <td>Nalanda</td>\n",
              "      <td>Rajgir</td>\n",
              "      <td>26</td>\n",
              "      <td>26</td>\n",
              "      <td>WetTillagePuddling TractorPlough FourWheelTrac...</td>\n",
              "      <td>2022-07-18</td>\n",
              "      <td>5</td>\n",
              "      <td>Manual_PuddledRandom</td>\n",
              "      <td>2022-06-20</td>\n",
              "      <td>...</td>\n",
              "      <td>hand</td>\n",
              "      <td>2022-11-25</td>\n",
              "      <td>3.0</td>\n",
              "      <td>2022-12-24</td>\n",
              "      <td>machine</td>\n",
              "      <td>24</td>\n",
              "      <td>10</td>\n",
              "      <td>plowed_in_soil</td>\n",
              "      <td>0.312500</td>\n",
              "      <td>600</td>\n",
              "    </tr>\n",
              "    <tr>\n",
              "      <th>2</th>\n",
              "      <td>ID_1FJY2CRIMLZZ</td>\n",
              "      <td>Gaya</td>\n",
              "      <td>Gurua</td>\n",
              "      <td>10</td>\n",
              "      <td>10</td>\n",
              "      <td>TractorPlough FourWheelTracRotavator</td>\n",
              "      <td>2022-06-30</td>\n",
              "      <td>6</td>\n",
              "      <td>Manual_PuddledRandom</td>\n",
              "      <td>2022-06-20</td>\n",
              "      <td>...</td>\n",
              "      <td>hand</td>\n",
              "      <td>2022-12-12</td>\n",
              "      <td>480.0</td>\n",
              "      <td>2023-01-11</td>\n",
              "      <td>machine</td>\n",
              "      <td>30</td>\n",
              "      <td>10</td>\n",
              "      <td>plowed_in_soil</td>\n",
              "      <td>0.148148</td>\n",
              "      <td>225</td>\n",
              "    </tr>\n",
              "    <tr>\n",
              "      <th>3</th>\n",
              "      <td>ID_I3IPXS4DB7NE</td>\n",
              "      <td>Gaya</td>\n",
              "      <td>Gurua</td>\n",
              "      <td>15</td>\n",
              "      <td>15</td>\n",
              "      <td>TractorPlough FourWheelTracRotavator</td>\n",
              "      <td>2022-06-16</td>\n",
              "      <td>6</td>\n",
              "      <td>Manual_PuddledRandom</td>\n",
              "      <td>2022-06-17</td>\n",
              "      <td>...</td>\n",
              "      <td>hand</td>\n",
              "      <td>2022-12-02</td>\n",
              "      <td>240.0</td>\n",
              "      <td>2022-12-29</td>\n",
              "      <td>hand</td>\n",
              "      <td>26</td>\n",
              "      <td>10</td>\n",
              "      <td>plowed_in_soil</td>\n",
              "      <td>0.222222</td>\n",
              "      <td>468</td>\n",
              "    </tr>\n",
              "    <tr>\n",
              "      <th>4</th>\n",
              "      <td>ID_4T8YQWXWHB4A</td>\n",
              "      <td>Nalanda</td>\n",
              "      <td>Noorsarai</td>\n",
              "      <td>60</td>\n",
              "      <td>60</td>\n",
              "      <td>TractorPlough WetTillagePuddling</td>\n",
              "      <td>2022-07-19</td>\n",
              "      <td>4</td>\n",
              "      <td>Manual_PuddledRandom</td>\n",
              "      <td>2022-06-21</td>\n",
              "      <td>...</td>\n",
              "      <td>machine</td>\n",
              "      <td>2022-11-30</td>\n",
              "      <td>NaN</td>\n",
              "      <td>2022-12-02</td>\n",
              "      <td>machine</td>\n",
              "      <td>24</td>\n",
              "      <td>40</td>\n",
              "      <td>plowed_in_soil</td>\n",
              "      <td>0.468750</td>\n",
              "      <td>550</td>\n",
              "    </tr>\n",
              "  </tbody>\n",
              "</table>\n",
              "<p>5 rows × 40 columns</p>\n",
              "</div>"
            ],
            "text/plain": [
              "                ID District      Block  CultLand  CropCultLand  \\\n",
              "0  ID_GTFAC7PEVWQ9  Nalanda  Noorsarai        45            40   \n",
              "1  ID_TK40ARLSPOKS  Nalanda     Rajgir        26            26   \n",
              "2  ID_1FJY2CRIMLZZ     Gaya      Gurua        10            10   \n",
              "3  ID_I3IPXS4DB7NE     Gaya      Gurua        15            15   \n",
              "4  ID_4T8YQWXWHB4A  Nalanda  Noorsarai        60            60   \n",
              "\n",
              "                               LandPreparationMethod CropTillageDate  \\\n",
              "0               TractorPlough FourWheelTracRotavator      2022-07-20   \n",
              "1  WetTillagePuddling TractorPlough FourWheelTrac...      2022-07-18   \n",
              "2               TractorPlough FourWheelTracRotavator      2022-06-30   \n",
              "3               TractorPlough FourWheelTracRotavator      2022-06-16   \n",
              "4                   TractorPlough WetTillagePuddling      2022-07-19   \n",
              "\n",
              "   CropTillageDepth         CropEstMethod RcNursEstDate  ... Harv_method  \\\n",
              "0                 5  Manual_PuddledRandom    2022-06-27  ...     machine   \n",
              "1                 5  Manual_PuddledRandom    2022-06-20  ...        hand   \n",
              "2                 6  Manual_PuddledRandom    2022-06-20  ...        hand   \n",
              "3                 6  Manual_PuddledRandom    2022-06-17  ...        hand   \n",
              "4                 4  Manual_PuddledRandom    2022-06-21  ...     machine   \n",
              "\n",
              "    Harv_date Harv_hand_rent Threshing_date  Threshing_method Residue_length  \\\n",
              "0  2022-11-16            NaN     2022-11-16           machine             30   \n",
              "1  2022-11-25            3.0     2022-12-24           machine             24   \n",
              "2  2022-12-12          480.0     2023-01-11           machine             30   \n",
              "3  2022-12-02          240.0     2022-12-29              hand             26   \n",
              "4  2022-11-30            NaN     2022-12-02           machine             24   \n",
              "\n",
              "  Residue_perc     Stubble_use      Acre Yield  \n",
              "0           40  plowed_in_soil  0.312500   600  \n",
              "1           10  plowed_in_soil  0.312500   600  \n",
              "2           10  plowed_in_soil  0.148148   225  \n",
              "3           10  plowed_in_soil  0.222222   468  \n",
              "4           40  plowed_in_soil  0.468750   550  \n",
              "\n",
              "[5 rows x 40 columns]"
            ]
          },
          "execution_count": 4,
          "metadata": {},
          "output_type": "execute_result"
        }
      ],
      "source": [
        "dfTin = wrangle(r\"C:\\Users\\sanus\\Desktop\\MSCDATA\\Train.csv\")\n",
        "dfTst = wrangle(r\"C:\\Users\\sanus\\Desktop\\MSCDATA\\Test.csv\")\n",
        "print(dfTin.info(), dfTst.info())\n",
        "dfTin.head()"
      ]
    },
    {
      "cell_type": "code",
      "execution_count": null,
      "id": "f7e9641d",
      "metadata": {
        "id": "f7e9641d",
        "outputId": "6294a267-bb3d-411e-89d6-50534eea2bb7"
      },
      "outputs": [
        {
          "data": {
            "text/plain": [
              "ID                                       0\n",
              "District                                 0\n",
              "Block                                    0\n",
              "CultLand                                 0\n",
              "CropCultLand                             0\n",
              "LandPreparationMethod                    0\n",
              "CropTillageDate                          0\n",
              "CropTillageDepth                         0\n",
              "CropEstMethod                            0\n",
              "RcNursEstDate                           83\n",
              "SeedingSowingTransplanting               0\n",
              "SeedlingsPerPit                        289\n",
              "NursDetFactor                          289\n",
              "TransDetFactor                         289\n",
              "TransplantingIrrigationHours           193\n",
              "TransplantingIrrigationSource          115\n",
              "TransplantingIrrigationPowerSource     503\n",
              "TransIrriCost                          882\n",
              "StandingWater                          238\n",
              "OrgFertilizers                        1335\n",
              "PCropSolidOrgFertAppMethod            1337\n",
              "NoFertilizerAppln                        0\n",
              "CropbasalFerts                         188\n",
              "BasalDAP                               543\n",
              "BasalUrea                             1704\n",
              "MineralFertAppMethod                     0\n",
              "FirstTopDressFert                      485\n",
              "1tdUrea                                556\n",
              "1appDaysUrea                           556\n",
              "MineralFertAppMethod.1                 481\n",
              "Harv_method                              0\n",
              "Harv_date                                0\n",
              "Harv_hand_rent                         252\n",
              "Threshing_date                           0\n",
              "Threshing_method                         0\n",
              "Residue_length                           0\n",
              "Residue_perc                             0\n",
              "Stubble_use                              0\n",
              "Acre                                     0\n",
              "Yield                                    0\n",
              "dtype: int64"
            ]
          },
          "execution_count": 5,
          "metadata": {},
          "output_type": "execute_result"
        }
      ],
      "source": [
        "dfTin.isnull().sum()"
      ]
    },
    {
      "cell_type": "code",
      "execution_count": null,
      "id": "777ec5c7",
      "metadata": {
        "id": "777ec5c7",
        "outputId": "e364afb0-68cc-4b18-b5d7-fa071632db17"
      },
      "outputs": [
        {
          "data": {
            "text/plain": [
              "ID                                      0\n",
              "District                                0\n",
              "Block                                   0\n",
              "CultLand                                0\n",
              "CropCultLand                            0\n",
              "LandPreparationMethod                   0\n",
              "CropTillageDate                         0\n",
              "CropTillageDepth                        0\n",
              "CropEstMethod                           0\n",
              "RcNursEstDate                          43\n",
              "SeedingSowingTransplanting              0\n",
              "SeedlingsPerPit                       103\n",
              "NursDetFactor                         103\n",
              "TransDetFactor                        103\n",
              "TransplantingIrrigationHours           77\n",
              "TransplantingIrrigationSource          46\n",
              "TransplantingIrrigationPowerSource    171\n",
              "TransIrriCost                         317\n",
              "StandingWater                          79\n",
              "OrgFertilizers                        415\n",
              "PCropSolidOrgFertAppMethod            416\n",
              "NoFertilizerAppln                       0\n",
              "CropbasalFerts                         76\n",
              "BasalDAP                              191\n",
              "BasalUrea                             571\n",
              "MineralFertAppMethod                    0\n",
              "FirstTopDressFert                     149\n",
              "1tdUrea                               177\n",
              "1appDaysUrea                          178\n",
              "MineralFertAppMethod.1                146\n",
              "Harv_method                             0\n",
              "Harv_date                               0\n",
              "Harv_hand_rent                         73\n",
              "Threshing_date                          0\n",
              "Threshing_method                        0\n",
              "Residue_length                          0\n",
              "Residue_perc                            0\n",
              "Stubble_use                             0\n",
              "Acre                                    0\n",
              "dtype: int64"
            ]
          },
          "execution_count": 6,
          "metadata": {},
          "output_type": "execute_result"
        }
      ],
      "source": [
        "dfTst.isnull().sum()"
      ]
    },
    {
      "cell_type": "code",
      "execution_count": null,
      "id": "150c1f62",
      "metadata": {
        "id": "150c1f62",
        "outputId": "b70a87db-8e00-4886-80f5-98dd963e20e3"
      },
      "outputs": [
        {
          "data": {
            "text/plain": [
              "(3870, 40)"
            ]
          },
          "execution_count": 7,
          "metadata": {},
          "output_type": "execute_result"
        }
      ],
      "source": [
        "dfTin.shape"
      ]
    },
    {
      "cell_type": "code",
      "execution_count": null,
      "id": "8d5bdfc7",
      "metadata": {
        "id": "8d5bdfc7",
        "outputId": "3bbdf3d7-fac8-4271-bec5-457873e33aaf"
      },
      "outputs": [
        {
          "data": {
            "text/plain": [
              "(1290, 39)"
            ]
          },
          "execution_count": 8,
          "metadata": {},
          "output_type": "execute_result"
        }
      ],
      "source": [
        "dfTst.shape"
      ]
    },
    {
      "cell_type": "code",
      "execution_count": null,
      "id": "019363ee",
      "metadata": {
        "id": "019363ee"
      },
      "outputs": [],
      "source": [
        "import numpy as np\n",
        "\n",
        "def shuffle_and_split_data(data, test_ratio):\n",
        "    shuffled_indices = np.random.permutation(len(data))\n",
        "    test_set_size = int(len(data) * test_ratio)\n",
        "    test_indices = shuffled_indices[:test_set_size]\n",
        "    train_indices = shuffled_indices[test_set_size:]\n",
        "    return data.iloc[train_indices], data.iloc[test_indices]"
      ]
    },
    {
      "cell_type": "code",
      "execution_count": null,
      "id": "3cf0ebaa",
      "metadata": {
        "id": "3cf0ebaa",
        "outputId": "ce6dde34-05b8-462e-dce9-a97040f3e010"
      },
      "outputs": [
        {
          "name": "stdout",
          "output_type": "stream",
          "text": [
            "3096 774\n"
          ]
        }
      ],
      "source": [
        "train_set, test_set = shuffle_and_split_data(dfTin, 0.2)\n",
        "print(len(train_set), len(test_set))"
      ]
    },
    {
      "cell_type": "code",
      "execution_count": null,
      "id": "11092cae",
      "metadata": {
        "id": "11092cae"
      },
      "outputs": [],
      "source": [
        "np.random.seed(42)"
      ]
    },
    {
      "cell_type": "code",
      "execution_count": null,
      "id": "787c8822",
      "metadata": {
        "id": "787c8822"
      },
      "outputs": [],
      "source": [
        "from sklearn.model_selection import train_test_split\n",
        "\n",
        "train_set, test_set = train_test_split(dfTin, test_size=0.2, random_state=42)"
      ]
    },
    {
      "cell_type": "code",
      "execution_count": null,
      "id": "7dcbd888",
      "metadata": {
        "id": "7dcbd888"
      },
      "outputs": [],
      "source": [
        "dfTin[\"Yieldone\"] = pd.cut(dfTin[\"Yield\"],\n",
        "                               bins=[0., 1.5, 3.0, 4.5, 6., np.inf],\n",
        "                               labels=[1, 2, 3, 4, 5])"
      ]
    },
    {
      "cell_type": "code",
      "execution_count": null,
      "id": "1810a7eb",
      "metadata": {
        "id": "1810a7eb",
        "outputId": "f70b3d02-4ea7-47b1-953a-d5e6bc8699bb"
      },
      "outputs": [
        {
          "data": {
            "image/png": "[encoded data removed]",
            "text/plain": [
              "<Figure size 640x480 with 1 Axes>"
            ]
          },
          "metadata": {},
          "output_type": "display_data"
        }
      ],
      "source": [
        "import matplotlib.pyplot as plt\n",
        "dfTin[\"Yieldone\"].value_counts().sort_index().plot.bar(rot=0, grid=True)\n",
        "plt.xlabel(\"Yield category\")\n",
        "plt.ylabel(\"Number of Yield\")\n",
        "plt.show()"
      ]
    },
    {
      "cell_type": "code",
      "execution_count": null,
      "id": "e71d6d51",
      "metadata": {
        "id": "e71d6d51"
      },
      "outputs": [],
      "source": [
        "from sklearn.model_selection import StratifiedShuffleSplit\n",
        "\n",
        "splitter = StratifiedShuffleSplit(n_splits=10, test_size=0.2, random_state=42)\n",
        "strat_splits = []\n",
        "for train_index, test_index in splitter.split(dfTin, dfTin[\"Yieldone\"]):\n",
        "    strat_train_set_n = dfTin.iloc[train_index]\n",
        "    strat_test_set_n = dfTin.iloc[test_index]\n",
        "    strat_splits.append([strat_train_set_n, strat_test_set_n])"
      ]
    },
    {
      "cell_type": "code",
      "execution_count": null,
      "id": "c2d0d151",
      "metadata": {
        "id": "c2d0d151"
      },
      "outputs": [],
      "source": [
        "strat_train_set, strat_test_set = strat_splits[0]"
      ]
    },
    {
      "cell_type": "code",
      "execution_count": null,
      "id": "c9e03abf",
      "metadata": {
        "id": "c9e03abf"
      },
      "outputs": [],
      "source": [
        "strat_train_set, strat_test_set = train_test_split(\n",
        "    dfTin, test_size=0.2, stratify=dfTin[\"Yieldone\"], random_state=42)"
      ]
    },
    {
      "cell_type": "code",
      "execution_count": null,
      "id": "eeb7bbe5",
      "metadata": {
        "id": "eeb7bbe5",
        "outputId": "85201524-dcc3-4ec0-eaae-e65ff52391e8"
      },
      "outputs": [
        {
          "data": {
            "text/plain": [
              "5    0.978036\n",
              "3    0.018088\n",
              "4    0.003876\n",
              "1    0.000000\n",
              "2    0.000000\n",
              "Name: Yieldone, dtype: float64"
            ]
          },
          "execution_count": 18,
          "metadata": {},
          "output_type": "execute_result"
        }
      ],
      "source": [
        "strat_test_set[\"Yieldone\"].value_counts() / len(strat_test_set)"
      ]
    },
    {
      "cell_type": "code",
      "execution_count": null,
      "id": "a94fd220",
      "metadata": {
        "id": "a94fd220",
        "outputId": "ddb03a20-4ba7-462a-93f2-b7fabb00fad3"
      },
      "outputs": [
        {
          "data": {
            "text/html": [
              "<div>\n",
              "<style scoped>\n",
              "    .dataframe tbody tr th:only-of-type {\n",
              "        vertical-align: middle;\n",
              "    }\n",
              "\n",
              "    .dataframe tbody tr th {\n",
              "        vertical-align: top;\n",
              "    }\n",
              "\n",
              "    .dataframe thead th {\n",
              "        text-align: right;\n",
              "    }\n",
              "</style>\n",
              "<table border=\"1\" class=\"dataframe\">\n",
              "  <thead>\n",
              "    <tr style=\"text-align: right;\">\n",
              "      <th></th>\n",
              "      <th>Overall %</th>\n",
              "      <th>Stratified %</th>\n",
              "      <th>Random %</th>\n",
              "      <th>Strat. Error %</th>\n",
              "      <th>Rand. Error %</th>\n",
              "    </tr>\n",
              "    <tr>\n",
              "      <th>Yieldone Category</th>\n",
              "      <th></th>\n",
              "      <th></th>\n",
              "      <th></th>\n",
              "      <th></th>\n",
              "      <th></th>\n",
              "    </tr>\n",
              "  </thead>\n",
              "  <tbody>\n",
              "    <tr>\n",
              "      <th>1</th>\n",
              "      <td>0.00</td>\n",
              "      <td>0.00</td>\n",
              "      <td>0.00</td>\n",
              "      <td>NaN</td>\n",
              "      <td>NaN</td>\n",
              "    </tr>\n",
              "    <tr>\n",
              "      <th>2</th>\n",
              "      <td>0.00</td>\n",
              "      <td>0.00</td>\n",
              "      <td>0.00</td>\n",
              "      <td>NaN</td>\n",
              "      <td>NaN</td>\n",
              "    </tr>\n",
              "    <tr>\n",
              "      <th>3</th>\n",
              "      <td>1.81</td>\n",
              "      <td>1.81</td>\n",
              "      <td>1.29</td>\n",
              "      <td>0.00</td>\n",
              "      <td>-28.57</td>\n",
              "    </tr>\n",
              "    <tr>\n",
              "      <th>4</th>\n",
              "      <td>0.44</td>\n",
              "      <td>0.39</td>\n",
              "      <td>0.52</td>\n",
              "      <td>-11.76</td>\n",
              "      <td>17.65</td>\n",
              "    </tr>\n",
              "    <tr>\n",
              "      <th>5</th>\n",
              "      <td>97.75</td>\n",
              "      <td>97.80</td>\n",
              "      <td>98.19</td>\n",
              "      <td>0.05</td>\n",
              "      <td>0.45</td>\n",
              "    </tr>\n",
              "  </tbody>\n",
              "</table>\n",
              "</div>"
            ],
            "text/plain": [
              "                   Overall %  Stratified %  Random %  Strat. Error %  \\\n",
              "Yieldone Category                                                      \n",
              "1                       0.00          0.00      0.00             NaN   \n",
              "2                       0.00          0.00      0.00             NaN   \n",
              "3                       1.81          1.81      1.29            0.00   \n",
              "4                       0.44          0.39      0.52          -11.76   \n",
              "5                      97.75         97.80     98.19            0.05   \n",
              "\n",
              "                   Rand. Error %  \n",
              "Yieldone Category                 \n",
              "1                            NaN  \n",
              "2                            NaN  \n",
              "3                         -28.57  \n",
              "4                          17.65  \n",
              "5                           0.45  "
            ]
          },
          "execution_count": 19,
          "metadata": {},
          "output_type": "execute_result"
        }
      ],
      "source": [
        "# extra code – computes the data for Figure 2–10\n",
        "\n",
        "def income_cat_proportions(data):\n",
        "    return data[\"Yieldone\"].value_counts() / len(data)\n",
        "\n",
        "train_set, test_set = train_test_split(dfTin, test_size=0.2, random_state=42)\n",
        "\n",
        "compare_props = pd.DataFrame({\n",
        "    \"Overall %\": income_cat_proportions(dfTin),\n",
        "    \"Stratified %\": income_cat_proportions(strat_test_set),\n",
        "    \"Random %\": income_cat_proportions(test_set),\n",
        "}).sort_index()\n",
        "compare_props.index.name = \"Yieldone Category\"\n",
        "compare_props[\"Strat. Error %\"] = (compare_props[\"Stratified %\"] /\n",
        "                                   compare_props[\"Overall %\"] - 1)\n",
        "compare_props[\"Rand. Error %\"] = (compare_props[\"Random %\"] /\n",
        "                                  compare_props[\"Overall %\"] - 1)\n",
        "(compare_props * 100).round(2)"
      ]
    },
    {
      "cell_type": "code",
      "execution_count": null,
      "id": "0cf1d3bc",
      "metadata": {
        "id": "0cf1d3bc"
      },
      "outputs": [],
      "source": [
        "for set_ in (strat_train_set, strat_test_set):\n",
        "    set_.drop(\"Yieldone\", axis=1, inplace=True)"
      ]
    },
    {
      "cell_type": "code",
      "execution_count": null,
      "id": "85a66927",
      "metadata": {
        "id": "85a66927"
      },
      "outputs": [],
      "source": [
        "dfTin = strat_train_set.copy()"
      ]
    },
    {
      "cell_type": "code",
      "execution_count": null,
      "id": "143aded9",
      "metadata": {
        "id": "143aded9"
      },
      "outputs": [],
      "source": [
        "corr_matrix = dfTin.corr()"
      ]
    },
    {
      "cell_type": "code",
      "execution_count": null,
      "id": "09f36841",
      "metadata": {
        "id": "09f36841",
        "outputId": "25ce8245-91d3-43d2-e272-1f80fa8913c0"
      },
      "outputs": [
        {
          "data": {
            "text/plain": [
              "Yield                           1.000000\n",
              "Acre                            0.688605\n",
              "1tdUrea                         0.437519\n",
              "BasalDAP                        0.430064\n",
              "BasalUrea                       0.339325\n",
              "TransIrriCost                   0.285787\n",
              "CultLand                        0.250368\n",
              "CropCultLand                    0.238776\n",
              "Harv_hand_rent                  0.160393\n",
              "Residue_perc                    0.061991\n",
              "TransplantingIrrigationHours    0.004606\n",
              "StandingWater                  -0.002158\n",
              "CropTillageDepth               -0.010693\n",
              "1appDaysUrea                   -0.016054\n",
              "NoFertilizerAppln              -0.023323\n",
              "SeedlingsPerPit                -0.025212\n",
              "Residue_length                 -0.216388\n",
              "Name: Yield, dtype: float64"
            ]
          },
          "execution_count": 23,
          "metadata": {},
          "output_type": "execute_result"
        }
      ],
      "source": [
        "corr_matrix[\"Yield\"].sort_values(ascending=False)"
      ]
    },
    {
      "cell_type": "code",
      "execution_count": null,
      "id": "27ef2348",
      "metadata": {
        "id": "27ef2348",
        "outputId": "e640a7c9-c580-4d25-9ebe-86a0c88df81c"
      },
      "outputs": [
        {
          "data": {
            "image/png": "[encoded data removed]",
            "text/plain": [
              "<Figure size 1200x800 with 9 Axes>"
            ]
          },
          "metadata": {},
          "output_type": "display_data"
        }
      ],
      "source": [
        "from pandas.plotting import scatter_matrix\n",
        "\n",
        "attributes = [\"Yield\", \"Acre\", \"CropCultLand\",]\n",
        "scatter_matrix(dfTin[attributes], figsize=(12, 8))\n",
        "plt.show()"
      ]
    },
    {
      "cell_type": "code",
      "execution_count": null,
      "id": "8a716b46",
      "metadata": {
        "id": "8a716b46"
      },
      "outputs": [],
      "source": [
        "dfTin = strat_train_set.drop([\"ID\",\"Yield\"], axis=1)\n",
        "dfTin = dfTin.select_dtypes(include=np.number)\n",
        "dfTin_labels = strat_train_set[\"Yield\"].copy()"
      ]
    },
    {
      "cell_type": "code",
      "execution_count": null,
      "id": "13267f69",
      "metadata": {
        "id": "13267f69",
        "outputId": "77f3e9d2-bd52-4cae-af4d-20f7d654af5d"
      },
      "outputs": [
        {
          "data": {
            "text/html": [
              "<div>\n",
              "<style scoped>\n",
              "    .dataframe tbody tr th:only-of-type {\n",
              "        vertical-align: middle;\n",
              "    }\n",
              "\n",
              "    .dataframe tbody tr th {\n",
              "        vertical-align: top;\n",
              "    }\n",
              "\n",
              "    .dataframe thead th {\n",
              "        text-align: right;\n",
              "    }\n",
              "</style>\n",
              "<table border=\"1\" class=\"dataframe\">\n",
              "  <thead>\n",
              "    <tr style=\"text-align: right;\">\n",
              "      <th></th>\n",
              "      <th>CultLand</th>\n",
              "      <th>CropCultLand</th>\n",
              "      <th>CropTillageDepth</th>\n",
              "      <th>SeedlingsPerPit</th>\n",
              "      <th>TransplantingIrrigationHours</th>\n",
              "      <th>TransIrriCost</th>\n",
              "      <th>StandingWater</th>\n",
              "      <th>NoFertilizerAppln</th>\n",
              "      <th>BasalDAP</th>\n",
              "      <th>BasalUrea</th>\n",
              "      <th>1tdUrea</th>\n",
              "      <th>1appDaysUrea</th>\n",
              "      <th>Harv_hand_rent</th>\n",
              "      <th>Residue_length</th>\n",
              "      <th>Residue_perc</th>\n",
              "      <th>Acre</th>\n",
              "    </tr>\n",
              "  </thead>\n",
              "  <tbody>\n",
              "    <tr>\n",
              "      <th>3720</th>\n",
              "      <td>25</td>\n",
              "      <td>25</td>\n",
              "      <td>6</td>\n",
              "      <td>4.0</td>\n",
              "      <td>NaN</td>\n",
              "      <td>NaN</td>\n",
              "      <td>12.0</td>\n",
              "      <td>2</td>\n",
              "      <td>10.0</td>\n",
              "      <td>NaN</td>\n",
              "      <td>5.0</td>\n",
              "      <td>35.0</td>\n",
              "      <td>400.0</td>\n",
              "      <td>30</td>\n",
              "      <td>10</td>\n",
              "      <td>0.259259</td>\n",
              "    </tr>\n",
              "    <tr>\n",
              "      <th>1409</th>\n",
              "      <td>60</td>\n",
              "      <td>60</td>\n",
              "      <td>4</td>\n",
              "      <td>NaN</td>\n",
              "      <td>8.0</td>\n",
              "      <td>600.0</td>\n",
              "      <td>2.0</td>\n",
              "      <td>2</td>\n",
              "      <td>30.0</td>\n",
              "      <td>60.0</td>\n",
              "      <td>40.0</td>\n",
              "      <td>16.0</td>\n",
              "      <td>1500.0</td>\n",
              "      <td>26</td>\n",
              "      <td>10</td>\n",
              "      <td>0.937500</td>\n",
              "    </tr>\n",
              "    <tr>\n",
              "      <th>1365</th>\n",
              "      <td>30</td>\n",
              "      <td>30</td>\n",
              "      <td>4</td>\n",
              "      <td>3.0</td>\n",
              "      <td>2.0</td>\n",
              "      <td>250.0</td>\n",
              "      <td>5.0</td>\n",
              "      <td>3</td>\n",
              "      <td>5.0</td>\n",
              "      <td>NaN</td>\n",
              "      <td>7.0</td>\n",
              "      <td>27.0</td>\n",
              "      <td>150.0</td>\n",
              "      <td>28</td>\n",
              "      <td>10</td>\n",
              "      <td>0.227273</td>\n",
              "    </tr>\n",
              "    <tr>\n",
              "      <th>3168</th>\n",
              "      <td>58</td>\n",
              "      <td>58</td>\n",
              "      <td>5</td>\n",
              "      <td>2.0</td>\n",
              "      <td>NaN</td>\n",
              "      <td>NaN</td>\n",
              "      <td>4.0</td>\n",
              "      <td>2</td>\n",
              "      <td>22.0</td>\n",
              "      <td>15.0</td>\n",
              "      <td>30.0</td>\n",
              "      <td>42.0</td>\n",
              "      <td>5.0</td>\n",
              "      <td>25</td>\n",
              "      <td>10</td>\n",
              "      <td>0.468750</td>\n",
              "    </tr>\n",
              "    <tr>\n",
              "      <th>2162</th>\n",
              "      <td>25</td>\n",
              "      <td>20</td>\n",
              "      <td>4</td>\n",
              "      <td>1.0</td>\n",
              "      <td>3.0</td>\n",
              "      <td>350.0</td>\n",
              "      <td>2.0</td>\n",
              "      <td>3</td>\n",
              "      <td>16.0</td>\n",
              "      <td>NaN</td>\n",
              "      <td>16.0</td>\n",
              "      <td>23.0</td>\n",
              "      <td>1000.0</td>\n",
              "      <td>22</td>\n",
              "      <td>10</td>\n",
              "      <td>0.727273</td>\n",
              "    </tr>\n",
              "  </tbody>\n",
              "</table>\n",
              "</div>"
            ],
            "text/plain": [
              "      CultLand  CropCultLand  CropTillageDepth  SeedlingsPerPit  \\\n",
              "3720        25            25                 6              4.0   \n",
              "1409        60            60                 4              NaN   \n",
              "1365        30            30                 4              3.0   \n",
              "3168        58            58                 5              2.0   \n",
              "2162        25            20                 4              1.0   \n",
              "\n",
              "      TransplantingIrrigationHours  TransIrriCost  StandingWater  \\\n",
              "3720                           NaN            NaN           12.0   \n",
              "1409                           8.0          600.0            2.0   \n",
              "1365                           2.0          250.0            5.0   \n",
              "3168                           NaN            NaN            4.0   \n",
              "2162                           3.0          350.0            2.0   \n",
              "\n",
              "      NoFertilizerAppln  BasalDAP  BasalUrea  1tdUrea  1appDaysUrea  \\\n",
              "3720                  2      10.0        NaN      5.0          35.0   \n",
              "1409                  2      30.0       60.0     40.0          16.0   \n",
              "1365                  3       5.0        NaN      7.0          27.0   \n",
              "3168                  2      22.0       15.0     30.0          42.0   \n",
              "2162                  3      16.0        NaN     16.0          23.0   \n",
              "\n",
              "      Harv_hand_rent  Residue_length  Residue_perc      Acre  \n",
              "3720           400.0              30            10  0.259259  \n",
              "1409          1500.0              26            10  0.937500  \n",
              "1365           150.0              28            10  0.227273  \n",
              "3168             5.0              25            10  0.468750  \n",
              "2162          1000.0              22            10  0.727273  "
            ]
          },
          "execution_count": 26,
          "metadata": {},
          "output_type": "execute_result"
        }
      ],
      "source": [
        "null_rows_idx = dfTin.isnull().any(axis=1)\n",
        "dfTin.loc[null_rows_idx].head()"
      ]
    },
    {
      "cell_type": "code",
      "execution_count": null,
      "id": "fc485fdd",
      "metadata": {
        "id": "fc485fdd",
        "outputId": "0647df08-d0d7-49e7-977e-a55864896f18"
      },
      "outputs": [
        {
          "data": {
            "text/plain": [
              "CultLand                           0\n",
              "CropCultLand                       0\n",
              "CropTillageDepth                   0\n",
              "SeedlingsPerPit                  231\n",
              "TransplantingIrrigationHours     160\n",
              "TransIrriCost                    716\n",
              "StandingWater                    189\n",
              "NoFertilizerAppln                  0\n",
              "BasalDAP                         446\n",
              "BasalUrea                       1362\n",
              "1tdUrea                          431\n",
              "1appDaysUrea                     431\n",
              "Harv_hand_rent                   204\n",
              "Residue_length                     0\n",
              "Residue_perc                       0\n",
              "Acre                               0\n",
              "dtype: int64"
            ]
          },
          "execution_count": 27,
          "metadata": {},
          "output_type": "execute_result"
        }
      ],
      "source": [
        "dfTin.isnull().sum()"
      ]
    },
    {
      "cell_type": "code",
      "execution_count": null,
      "id": "e5176132",
      "metadata": {
        "id": "e5176132"
      },
      "outputs": [],
      "source": [
        "from sklearn.impute import SimpleImputer\n",
        "\n",
        "imputer = SimpleImputer(strategy=\"median\")"
      ]
    },
    {
      "cell_type": "code",
      "execution_count": null,
      "id": "9e2fc66c",
      "metadata": {
        "id": "9e2fc66c"
      },
      "outputs": [],
      "source": [
        "dfTin_num = dfTin.select_dtypes(include=[np.number])"
      ]
    },
    {
      "cell_type": "code",
      "execution_count": null,
      "id": "a2ceedda",
      "metadata": {
        "id": "a2ceedda",
        "outputId": "637fa43f-2be0-4400-bb8d-ed071bfe6a7e"
      },
      "outputs": [
        {
          "data": {
            "text/html": [
              "<style>#sk-container-id-1 {color: black;background-color: white;}#sk-container-id-1 pre{padding: 0;}#sk-container-id-1 div.sk-toggleable {background-color: white;}#sk-container-id-1 label.sk-toggleable__label {cursor: pointer;display: block;width: 100%;margin-bottom: 0;padding: 0.3em;box-sizing: border-box;text-align: center;}#sk-container-id-1 label.sk-toggleable__label-arrow:before {content: \"▸\";float: left;margin-right: 0.25em;color: #696969;}#sk-container-id-1 label.sk-toggleable__label-arrow:hover:before {color: black;}#sk-container-id-1 div.sk-estimator:hover label.sk-toggleable__label-arrow:before {color: black;}#sk-container-id-1 div.sk-toggleable__content {max-height: 0;max-width: 0;overflow: hidden;text-align: left;background-color: #f0f8ff;}#sk-container-id-1 div.sk-toggleable__content pre {margin: 0.2em;color: black;border-radius: 0.25em;background-color: #f0f8ff;}#sk-container-id-1 input.sk-toggleable__control:checked~div.sk-toggleable__content {max-height: 200px;max-width: 100%;overflow: auto;}#sk-container-id-1 input.sk-toggleable__control:checked~label.sk-toggleable__label-arrow:before {content: \"▾\";}#sk-container-id-1 div.sk-estimator input.sk-toggleable__control:checked~label.sk-toggleable__label {background-color: #d4ebff;}#sk-container-id-1 div.sk-label input.sk-toggleable__control:checked~label.sk-toggleable__label {background-color: #d4ebff;}#sk-container-id-1 input.sk-hidden--visually {border: 0;clip: rect(1px 1px 1px 1px);clip: rect(1px, 1px, 1px, 1px);height: 1px;margin: -1px;overflow: hidden;padding: 0;position: absolute;width: 1px;}#sk-container-id-1 div.sk-estimator {font-family: monospace;background-color: #f0f8ff;border: 1px dotted black;border-radius: 0.25em;box-sizing: border-box;margin-bottom: 0.5em;}#sk-container-id-1 div.sk-estimator:hover {background-color: #d4ebff;}#sk-container-id-1 div.sk-parallel-item::after {content: \"\";width: 100%;border-bottom: 1px solid gray;flex-grow: 1;}#sk-container-id-1 div.sk-label:hover label.sk-toggleable__label {background-color: #d4ebff;}#sk-container-id-1 div.sk-serial::before {content: \"\";position: absolute;border-left: 1px solid gray;box-sizing: border-box;top: 0;bottom: 0;left: 50%;z-index: 0;}#sk-container-id-1 div.sk-serial {display: flex;flex-direction: column;align-items: center;background-color: white;padding-right: 0.2em;padding-left: 0.2em;position: relative;}#sk-container-id-1 div.sk-item {position: relative;z-index: 1;}#sk-container-id-1 div.sk-parallel {display: flex;align-items: stretch;justify-content: center;background-color: white;position: relative;}#sk-container-id-1 div.sk-item::before, #sk-container-id-1 div.sk-parallel-item::before {content: \"\";position: absolute;border-left: 1px solid gray;box-sizing: border-box;top: 0;bottom: 0;left: 50%;z-index: -1;}#sk-container-id-1 div.sk-parallel-item {display: flex;flex-direction: column;z-index: 1;position: relative;background-color: white;}#sk-container-id-1 div.sk-parallel-item:first-child::after {align-self: flex-end;width: 50%;}#sk-container-id-1 div.sk-parallel-item:last-child::after {align-self: flex-start;width: 50%;}#sk-container-id-1 div.sk-parallel-item:only-child::after {width: 0;}#sk-container-id-1 div.sk-dashed-wrapped {border: 1px dashed gray;margin: 0 0.4em 0.5em 0.4em;box-sizing: border-box;padding-bottom: 0.4em;background-color: white;}#sk-container-id-1 div.sk-label label {font-family: monospace;font-weight: bold;display: inline-block;line-height: 1.2em;}#sk-container-id-1 div.sk-label-container {text-align: center;}#sk-container-id-1 div.sk-container {/* jupyter's `normalize.less` sets `[hidden] { display: none; }` but bootstrap.min.css set `[hidden] { display: none !important; }` so we also need the `!important` here to be able to override the default hidden behavior on the sphinx rendered scikit-learn.org. See: https://github.com/scikit-learn/scikit-learn/issues/21755 */display: inline-block !important;position: relative;}#sk-container-id-1 div.sk-text-repr-fallback {display: none;}</style><div id=\"sk-container-id-1\" class=\"sk-top-container\"><div class=\"sk-text-repr-fallback\"><pre>SimpleImputer(strategy=&#x27;median&#x27;)</pre><b>In a Jupyter environment, please rerun this cell to show the HTML representation or trust the notebook. <br />On GitHub, the HTML representation is unable to render, please try loading this page with nbviewer.org.</b></div><div class=\"sk-container\" hidden><div class=\"sk-item\"><div class=\"sk-estimator sk-toggleable\"><input class=\"sk-toggleable__control sk-hidden--visually\" id=\"sk-estimator-id-1\" type=\"checkbox\" checked><label for=\"sk-estimator-id-1\" class=\"sk-toggleable__label sk-toggleable__label-arrow\">SimpleImputer</label><div class=\"sk-toggleable__content\"><pre>SimpleImputer(strategy=&#x27;median&#x27;)</pre></div></div></div></div></div>"
            ],
            "text/plain": [
              "SimpleImputer(strategy='median')"
            ]
          },
          "execution_count": 30,
          "metadata": {},
          "output_type": "execute_result"
        }
      ],
      "source": [
        "imputer.fit(dfTin_num)"
      ]
    },
    {
      "cell_type": "code",
      "execution_count": null,
      "id": "fdf1f1b2",
      "metadata": {
        "id": "fdf1f1b2",
        "outputId": "1946c816-55c5-4f5c-e922-6880aaf3e44c"
      },
      "outputs": [
        {
          "data": {
            "text/plain": [
              "array([2.00000000e+01, 2.00000000e+01, 4.00000000e+00, 2.00000000e+00,\n",
              "       4.00000000e+00, 2.50000000e+02, 3.00000000e+00, 2.00000000e+00,\n",
              "       1.00000000e+01, 1.00000000e+01, 1.00000000e+01, 2.80000000e+01,\n",
              "       3.95000000e+02, 2.60000000e+01, 1.00000000e+01, 2.27272727e-01])"
            ]
          },
          "execution_count": 31,
          "metadata": {},
          "output_type": "execute_result"
        }
      ],
      "source": [
        "imputer.statistics_"
      ]
    },
    {
      "cell_type": "code",
      "execution_count": null,
      "id": "bf4c5166",
      "metadata": {
        "id": "bf4c5166",
        "outputId": "a6c0dcfc-0de6-4fea-c36d-6f7e99a32e92"
      },
      "outputs": [
        {
          "data": {
            "text/plain": [
              "array([2.00000000e+01, 2.00000000e+01, 4.00000000e+00, 2.00000000e+00,\n",
              "       4.00000000e+00, 2.50000000e+02, 3.00000000e+00, 2.00000000e+00,\n",
              "       1.00000000e+01, 1.00000000e+01, 1.00000000e+01, 2.80000000e+01,\n",
              "       3.95000000e+02, 2.60000000e+01, 1.00000000e+01, 2.27272727e-01])"
            ]
          },
          "execution_count": 32,
          "metadata": {},
          "output_type": "execute_result"
        }
      ],
      "source": [
        "dfTin_num.median().values"
      ]
    },
    {
      "cell_type": "code",
      "execution_count": null,
      "id": "fac1a811",
      "metadata": {
        "id": "fac1a811"
      },
      "outputs": [],
      "source": [
        "X = imputer.transform(dfTin_num)"
      ]
    },
    {
      "cell_type": "code",
      "execution_count": null,
      "id": "16d36ea3",
      "metadata": {
        "id": "16d36ea3",
        "outputId": "e74cd1a9-11ba-4836-cb7f-04b5bd19e532"
      },
      "outputs": [
        {
          "data": {
            "text/plain": [
              "array(['CultLand', 'CropCultLand', 'CropTillageDepth', 'SeedlingsPerPit',\n",
              "       'TransplantingIrrigationHours', 'TransIrriCost', 'StandingWater',\n",
              "       'NoFertilizerAppln', 'BasalDAP', 'BasalUrea', '1tdUrea',\n",
              "       '1appDaysUrea', 'Harv_hand_rent', 'Residue_length', 'Residue_perc',\n",
              "       'Acre'], dtype=object)"
            ]
          },
          "execution_count": 34,
          "metadata": {},
          "output_type": "execute_result"
        }
      ],
      "source": [
        "imputer.feature_names_in_"
      ]
    },
    {
      "cell_type": "code",
      "execution_count": null,
      "id": "2ae841d9",
      "metadata": {
        "id": "2ae841d9"
      },
      "outputs": [],
      "source": [
        "dfTin_tr = pd.DataFrame(X, columns=dfTin_num.columns,\n",
        "                          index=dfTin_num.index)"
      ]
    },
    {
      "cell_type": "code",
      "execution_count": null,
      "id": "72d6005c",
      "metadata": {
        "id": "72d6005c",
        "outputId": "73302e6f-3fc6-4585-b9ea-f93d929edd0f"
      },
      "outputs": [
        {
          "data": {
            "text/html": [
              "<div>\n",
              "<style scoped>\n",
              "    .dataframe tbody tr th:only-of-type {\n",
              "        vertical-align: middle;\n",
              "    }\n",
              "\n",
              "    .dataframe tbody tr th {\n",
              "        vertical-align: top;\n",
              "    }\n",
              "\n",
              "    .dataframe thead th {\n",
              "        text-align: right;\n",
              "    }\n",
              "</style>\n",
              "<table border=\"1\" class=\"dataframe\">\n",
              "  <thead>\n",
              "    <tr style=\"text-align: right;\">\n",
              "      <th></th>\n",
              "      <th>CultLand</th>\n",
              "      <th>CropCultLand</th>\n",
              "      <th>CropTillageDepth</th>\n",
              "      <th>SeedlingsPerPit</th>\n",
              "      <th>TransplantingIrrigationHours</th>\n",
              "      <th>TransIrriCost</th>\n",
              "      <th>StandingWater</th>\n",
              "      <th>NoFertilizerAppln</th>\n",
              "      <th>BasalDAP</th>\n",
              "      <th>BasalUrea</th>\n",
              "      <th>1tdUrea</th>\n",
              "      <th>1appDaysUrea</th>\n",
              "      <th>Harv_hand_rent</th>\n",
              "      <th>Residue_length</th>\n",
              "      <th>Residue_perc</th>\n",
              "      <th>Acre</th>\n",
              "    </tr>\n",
              "  </thead>\n",
              "  <tbody>\n",
              "    <tr>\n",
              "      <th>3720</th>\n",
              "      <td>25.0</td>\n",
              "      <td>25.0</td>\n",
              "      <td>6.0</td>\n",
              "      <td>4.0</td>\n",
              "      <td>4.0</td>\n",
              "      <td>250.0</td>\n",
              "      <td>12.0</td>\n",
              "      <td>2.0</td>\n",
              "      <td>10.0</td>\n",
              "      <td>10.0</td>\n",
              "      <td>5.0</td>\n",
              "      <td>35.0</td>\n",
              "      <td>400.0</td>\n",
              "      <td>30.0</td>\n",
              "      <td>10.0</td>\n",
              "      <td>0.259259</td>\n",
              "    </tr>\n",
              "    <tr>\n",
              "      <th>1409</th>\n",
              "      <td>60.0</td>\n",
              "      <td>60.0</td>\n",
              "      <td>4.0</td>\n",
              "      <td>2.0</td>\n",
              "      <td>8.0</td>\n",
              "      <td>600.0</td>\n",
              "      <td>2.0</td>\n",
              "      <td>2.0</td>\n",
              "      <td>30.0</td>\n",
              "      <td>60.0</td>\n",
              "      <td>40.0</td>\n",
              "      <td>16.0</td>\n",
              "      <td>1500.0</td>\n",
              "      <td>26.0</td>\n",
              "      <td>10.0</td>\n",
              "      <td>0.937500</td>\n",
              "    </tr>\n",
              "    <tr>\n",
              "      <th>1365</th>\n",
              "      <td>30.0</td>\n",
              "      <td>30.0</td>\n",
              "      <td>4.0</td>\n",
              "      <td>3.0</td>\n",
              "      <td>2.0</td>\n",
              "      <td>250.0</td>\n",
              "      <td>5.0</td>\n",
              "      <td>3.0</td>\n",
              "      <td>5.0</td>\n",
              "      <td>10.0</td>\n",
              "      <td>7.0</td>\n",
              "      <td>27.0</td>\n",
              "      <td>150.0</td>\n",
              "      <td>28.0</td>\n",
              "      <td>10.0</td>\n",
              "      <td>0.227273</td>\n",
              "    </tr>\n",
              "    <tr>\n",
              "      <th>3168</th>\n",
              "      <td>58.0</td>\n",
              "      <td>58.0</td>\n",
              "      <td>5.0</td>\n",
              "      <td>2.0</td>\n",
              "      <td>4.0</td>\n",
              "      <td>250.0</td>\n",
              "      <td>4.0</td>\n",
              "      <td>2.0</td>\n",
              "      <td>22.0</td>\n",
              "      <td>15.0</td>\n",
              "      <td>30.0</td>\n",
              "      <td>42.0</td>\n",
              "      <td>5.0</td>\n",
              "      <td>25.0</td>\n",
              "      <td>10.0</td>\n",
              "      <td>0.468750</td>\n",
              "    </tr>\n",
              "    <tr>\n",
              "      <th>2162</th>\n",
              "      <td>25.0</td>\n",
              "      <td>20.0</td>\n",
              "      <td>4.0</td>\n",
              "      <td>1.0</td>\n",
              "      <td>3.0</td>\n",
              "      <td>350.0</td>\n",
              "      <td>2.0</td>\n",
              "      <td>3.0</td>\n",
              "      <td>16.0</td>\n",
              "      <td>10.0</td>\n",
              "      <td>16.0</td>\n",
              "      <td>23.0</td>\n",
              "      <td>1000.0</td>\n",
              "      <td>22.0</td>\n",
              "      <td>10.0</td>\n",
              "      <td>0.727273</td>\n",
              "    </tr>\n",
              "  </tbody>\n",
              "</table>\n",
              "</div>"
            ],
            "text/plain": [
              "      CultLand  CropCultLand  CropTillageDepth  SeedlingsPerPit  \\\n",
              "3720      25.0          25.0               6.0              4.0   \n",
              "1409      60.0          60.0               4.0              2.0   \n",
              "1365      30.0          30.0               4.0              3.0   \n",
              "3168      58.0          58.0               5.0              2.0   \n",
              "2162      25.0          20.0               4.0              1.0   \n",
              "\n",
              "      TransplantingIrrigationHours  TransIrriCost  StandingWater  \\\n",
              "3720                           4.0          250.0           12.0   \n",
              "1409                           8.0          600.0            2.0   \n",
              "1365                           2.0          250.0            5.0   \n",
              "3168                           4.0          250.0            4.0   \n",
              "2162                           3.0          350.0            2.0   \n",
              "\n",
              "      NoFertilizerAppln  BasalDAP  BasalUrea  1tdUrea  1appDaysUrea  \\\n",
              "3720                2.0      10.0       10.0      5.0          35.0   \n",
              "1409                2.0      30.0       60.0     40.0          16.0   \n",
              "1365                3.0       5.0       10.0      7.0          27.0   \n",
              "3168                2.0      22.0       15.0     30.0          42.0   \n",
              "2162                3.0      16.0       10.0     16.0          23.0   \n",
              "\n",
              "      Harv_hand_rent  Residue_length  Residue_perc      Acre  \n",
              "3720           400.0            30.0          10.0  0.259259  \n",
              "1409          1500.0            26.0          10.0  0.937500  \n",
              "1365           150.0            28.0          10.0  0.227273  \n",
              "3168             5.0            25.0          10.0  0.468750  \n",
              "2162          1000.0            22.0          10.0  0.727273  "
            ]
          },
          "execution_count": 36,
          "metadata": {},
          "output_type": "execute_result"
        }
      ],
      "source": [
        "dfTin_tr.loc[null_rows_idx].head()"
      ]
    },
    {
      "cell_type": "code",
      "execution_count": null,
      "id": "c773b803",
      "metadata": {
        "id": "c773b803"
      },
      "outputs": [],
      "source": [
        "from sklearn.ensemble import IsolationForest\n",
        "\n",
        "isolation_forest = IsolationForest(random_state=42)\n",
        "outlier_pred = isolation_forest.fit_predict(X)"
      ]
    },
    {
      "cell_type": "code",
      "execution_count": null,
      "id": "6f02c19e",
      "metadata": {
        "id": "6f02c19e",
        "outputId": "530909af-b848-4943-9bbd-bb43eb2b76b3"
      },
      "outputs": [
        {
          "data": {
            "text/plain": [
              "array([ 1, -1,  1, ...,  1,  1,  1])"
            ]
          },
          "execution_count": 38,
          "metadata": {},
          "output_type": "execute_result"
        }
      ],
      "source": [
        "outlier_pred"
      ]
    },
    {
      "cell_type": "code",
      "execution_count": null,
      "id": "f4da33cd",
      "metadata": {
        "id": "f4da33cd"
      },
      "outputs": [],
      "source": [
        "dfTin = dfTin.iloc[outlier_pred == 1]\n",
        "dfTin_labels = dfTin_labels.iloc[outlier_pred == 1]"
      ]
    },
    {
      "cell_type": "code",
      "execution_count": null,
      "id": "68643168",
      "metadata": {
        "id": "68643168"
      },
      "outputs": [],
      "source": [
        " from sklearn.pipeline import make_pipeline, Pipeline\n",
        "from sklearn.impute import SimpleImputer\n",
        "from sklearn.preprocessing import StandardScaler\n",
        "\n",
        "num_pipeline = Pipeline([\n",
        "        (\"imputer\", SimpleImputer(strategy=\"median\")),\n",
        "        (\"scaler\", StandardScaler())\n",
        "    ])"
      ]
    },
    {
      "cell_type": "code",
      "execution_count": null,
      "id": "0b83e588",
      "metadata": {
        "id": "0b83e588"
      },
      "outputs": [],
      "source": [
        "from sklearn.preprocessing import OrdinalEncoder, OneHotEncoder"
      ]
    },
    {
      "cell_type": "code",
      "execution_count": null,
      "id": "08395344",
      "metadata": {
        "id": "08395344"
      },
      "outputs": [],
      "source": [
        "cat_pipeline = Pipeline([\n",
        "        (\"ordinal_encoder\", OrdinalEncoder()),\n",
        "        (\"imputer\", SimpleImputer(strategy=\"most_frequent\")),\n",
        "        (\"cat_encoder\", OneHotEncoder(sparse=False)),\n",
        "    ])"
      ]
    },
    {
      "cell_type": "code",
      "execution_count": null,
      "id": "addc23aa",
      "metadata": {
        "id": "addc23aa"
      },
      "outputs": [],
      "source": [
        "from sklearn.compose import ColumnTransformer\n",
        "\n",
        "num_attribs = [\"CultLand\", \"CropCultLand\", \"CropTillageDepth\", \"SeedlingsPerPit\", \"TransplantingIrrigationHours\", \"TransIrriCost\",\n",
        "              \"StandingWater\", \"NoFertilizerAppln\", \"BasalDAP\", \"BasalUrea\", \"1tdUrea\", \"1appDaysUrea\",\"Harv_hand_rent\",\n",
        "               \"Residue_length\", \"Residue_perc\", \"Acre\"]\n",
        "cat_attribs = [\"ID\", \"District\", \"Block\", \"LandPreparationMethod\", \"CropTillageDate\", \"CropEstMethod\", \"RcNursEstDate\",\n",
        "              \"SeedingSowingTransplanting\", \"NursDetFactor\", \"TransDetFactor\", \"TransplantingIrrigationSource\", \"TransplantingIrrigationPowerSource\",\n",
        "              \"OrgFertilizers\", \"PCropSolidOrgFertAppMethod\", \"CropbasalFerts\", \"MineralFertAppMethod\", \"FirstTopDressFert\", \"MineralFertAppMethod.1\",\n",
        "              \"Harv_method\", \"Harv_date\", \"Threshing_date\", \"Threshing_method\", \"Stubble_use\"]\n",
        "\n",
        "preprocess_pipeline = ColumnTransformer([\n",
        "        (\"num\", num_pipeline, num_attribs),\n",
        "        (\"cat\", cat_pipeline, cat_attribs),\n",
        "    ])"
      ]
    },
    {
      "cell_type": "code",
      "execution_count": null,
      "id": "73b588a9",
      "metadata": {
        "id": "73b588a9"
      },
      "outputs": [],
      "source": [
        "from sklearn.compose import make_column_selector, make_column_transformer\n",
        "\n",
        "preprocessing = make_column_transformer(\n",
        "    (num_pipeline, make_column_selector(dtype_include=np.number)),\n",
        "    (cat_pipeline, make_column_selector(dtype_include=object)),\n",
        ")"
      ]
    },
    {
      "cell_type": "code",
      "execution_count": null,
      "id": "0f4e23b4",
      "metadata": {
        "id": "0f4e23b4",
        "outputId": "19c2223e-0e2c-4645-cc5a-b88acc998e1f"
      },
      "outputs": [
        {
          "data": {
            "text/plain": [
              "array([[-0.02800344,  0.17601834,  1.32480591, ...,  1.08851555,\n",
              "        -0.20720475, -0.03052971],\n",
              "       [ 0.24537243,  0.46508508, -0.43415981, ...,  0.44221291,\n",
              "        -0.20720475, -0.2330752 ],\n",
              "       [ 1.77627731,  2.08385881,  0.44532305, ..., -0.52724106,\n",
              "        -0.20720475,  1.29601005],\n",
              "       ...,\n",
              "       [ 0.24537243,  0.29164504, -1.31364267, ..., -0.20408974,\n",
              "        -0.20720475, -0.2330752 ],\n",
              "       [ 1.88562766, -0.34430179,  0.44532305, ..., -0.52724106,\n",
              "        -0.20720475,  1.49389167],\n",
              "       [ 1.06550004,  1.33228529, -0.43415981, ..., -0.52724106,\n",
              "         4.82614408,  0.30660194]])"
            ]
          },
          "execution_count": 45,
          "metadata": {},
          "output_type": "execute_result"
        }
      ],
      "source": [
        "X_train = preprocessing.fit_transform(dfTin)\n",
        "X_train"
      ]
    },
    {
      "cell_type": "code",
      "execution_count": null,
      "id": "44f334e6",
      "metadata": {
        "id": "44f334e6",
        "outputId": "dc26ac15-c794-4497-aa5f-c9b40b54bb6f"
      },
      "outputs": [
        {
          "data": {
            "text/html": [
              "<div>\n",
              "<style scoped>\n",
              "    .dataframe tbody tr th:only-of-type {\n",
              "        vertical-align: middle;\n",
              "    }\n",
              "\n",
              "    .dataframe tbody tr th {\n",
              "        vertical-align: top;\n",
              "    }\n",
              "\n",
              "    .dataframe thead th {\n",
              "        text-align: right;\n",
              "    }\n",
              "</style>\n",
              "<table border=\"1\" class=\"dataframe\">\n",
              "  <thead>\n",
              "    <tr style=\"text-align: right;\">\n",
              "      <th></th>\n",
              "      <th>pipeline-1__CultLand</th>\n",
              "      <th>pipeline-1__CropCultLand</th>\n",
              "      <th>pipeline-1__CropTillageDepth</th>\n",
              "      <th>pipeline-1__SeedlingsPerPit</th>\n",
              "      <th>pipeline-1__TransplantingIrrigationHours</th>\n",
              "      <th>pipeline-1__TransIrriCost</th>\n",
              "      <th>pipeline-1__StandingWater</th>\n",
              "      <th>pipeline-1__NoFertilizerAppln</th>\n",
              "      <th>pipeline-1__BasalDAP</th>\n",
              "      <th>pipeline-1__BasalUrea</th>\n",
              "      <th>pipeline-1__1tdUrea</th>\n",
              "      <th>pipeline-1__1appDaysUrea</th>\n",
              "      <th>pipeline-1__Harv_hand_rent</th>\n",
              "      <th>pipeline-1__Residue_length</th>\n",
              "      <th>pipeline-1__Residue_perc</th>\n",
              "      <th>pipeline-1__Acre</th>\n",
              "    </tr>\n",
              "  </thead>\n",
              "  <tbody>\n",
              "    <tr>\n",
              "      <th>3720</th>\n",
              "      <td>-0.028003</td>\n",
              "      <td>0.176018</td>\n",
              "      <td>1.324806</td>\n",
              "      <td>0.152796</td>\n",
              "      <td>-0.098649</td>\n",
              "      <td>-0.253593</td>\n",
              "      <td>4.201423</td>\n",
              "      <td>-0.32271</td>\n",
              "      <td>-0.028497</td>\n",
              "      <td>-0.160968</td>\n",
              "      <td>-0.842946</td>\n",
              "      <td>0.525217</td>\n",
              "      <td>-0.067504</td>\n",
              "      <td>1.088516</td>\n",
              "      <td>-0.207205</td>\n",
              "      <td>-0.030530</td>\n",
              "    </tr>\n",
              "    <tr>\n",
              "      <th>1365</th>\n",
              "      <td>0.245372</td>\n",
              "      <td>0.465085</td>\n",
              "      <td>-0.434160</td>\n",
              "      <td>0.033354</td>\n",
              "      <td>-0.212512</td>\n",
              "      <td>-0.220834</td>\n",
              "      <td>0.862636</td>\n",
              "      <td>1.26363</td>\n",
              "      <td>-0.992167</td>\n",
              "      <td>-0.160968</td>\n",
              "      <td>-0.526420</td>\n",
              "      <td>-0.159989</td>\n",
              "      <td>-0.278791</td>\n",
              "      <td>0.442213</td>\n",
              "      <td>-0.207205</td>\n",
              "      <td>-0.233075</td>\n",
              "    </tr>\n",
              "    <tr>\n",
              "      <th>3168</th>\n",
              "      <td>1.776277</td>\n",
              "      <td>2.083859</td>\n",
              "      <td>0.445323</td>\n",
              "      <td>-0.086089</td>\n",
              "      <td>-0.098649</td>\n",
              "      <td>-0.253593</td>\n",
              "      <td>0.385666</td>\n",
              "      <td>-0.32271</td>\n",
              "      <td>2.284311</td>\n",
              "      <td>0.900621</td>\n",
              "      <td>3.113623</td>\n",
              "      <td>1.124773</td>\n",
              "      <td>-0.401338</td>\n",
              "      <td>-0.527241</td>\n",
              "      <td>-0.207205</td>\n",
              "      <td>1.296010</td>\n",
              "    </tr>\n",
              "    <tr>\n",
              "      <th>1703</th>\n",
              "      <td>-0.028003</td>\n",
              "      <td>-0.113048</td>\n",
              "      <td>-0.434160</td>\n",
              "      <td>0.152796</td>\n",
              "      <td>0.129078</td>\n",
              "      <td>1.580896</td>\n",
              "      <td>-1.045243</td>\n",
              "      <td>-0.32271</td>\n",
              "      <td>1.127907</td>\n",
              "      <td>1.112938</td>\n",
              "      <td>-0.526420</td>\n",
              "      <td>-1.873006</td>\n",
              "      <td>0.101527</td>\n",
              "      <td>-0.204090</td>\n",
              "      <td>-0.207205</td>\n",
              "      <td>1.206064</td>\n",
              "    </tr>\n",
              "    <tr>\n",
              "      <th>2162</th>\n",
              "      <td>-0.028003</td>\n",
              "      <td>-0.113048</td>\n",
              "      <td>-0.434160</td>\n",
              "      <td>-0.205531</td>\n",
              "      <td>-0.155581</td>\n",
              "      <td>0.106753</td>\n",
              "      <td>-0.568273</td>\n",
              "      <td>1.26363</td>\n",
              "      <td>1.127907</td>\n",
              "      <td>-0.160968</td>\n",
              "      <td>0.897944</td>\n",
              "      <td>-0.502593</td>\n",
              "      <td>0.439587</td>\n",
              "      <td>-1.496695</td>\n",
              "      <td>-0.207205</td>\n",
              "      <td>2.933031</td>\n",
              "    </tr>\n",
              "  </tbody>\n",
              "</table>\n",
              "</div>"
            ],
            "text/plain": [
              "      pipeline-1__CultLand  pipeline-1__CropCultLand  \\\n",
              "3720             -0.028003                  0.176018   \n",
              "1365              0.245372                  0.465085   \n",
              "3168              1.776277                  2.083859   \n",
              "1703             -0.028003                 -0.113048   \n",
              "2162             -0.028003                 -0.113048   \n",
              "\n",
              "      pipeline-1__CropTillageDepth  pipeline-1__SeedlingsPerPit  \\\n",
              "3720                      1.324806                     0.152796   \n",
              "1365                     -0.434160                     0.033354   \n",
              "3168                      0.445323                    -0.086089   \n",
              "1703                     -0.434160                     0.152796   \n",
              "2162                     -0.434160                    -0.205531   \n",
              "\n",
              "      pipeline-1__TransplantingIrrigationHours  pipeline-1__TransIrriCost  \\\n",
              "3720                                 -0.098649                  -0.253593   \n",
              "1365                                 -0.212512                  -0.220834   \n",
              "3168                                 -0.098649                  -0.253593   \n",
              "1703                                  0.129078                   1.580896   \n",
              "2162                                 -0.155581                   0.106753   \n",
              "\n",
              "      pipeline-1__StandingWater  pipeline-1__NoFertilizerAppln  \\\n",
              "3720                   4.201423                       -0.32271   \n",
              "1365                   0.862636                        1.26363   \n",
              "3168                   0.385666                       -0.32271   \n",
              "1703                  -1.045243                       -0.32271   \n",
              "2162                  -0.568273                        1.26363   \n",
              "\n",
              "      pipeline-1__BasalDAP  pipeline-1__BasalUrea  pipeline-1__1tdUrea  \\\n",
              "3720             -0.028497              -0.160968            -0.842946   \n",
              "1365             -0.992167              -0.160968            -0.526420   \n",
              "3168              2.284311               0.900621             3.113623   \n",
              "1703              1.127907               1.112938            -0.526420   \n",
              "2162              1.127907              -0.160968             0.897944   \n",
              "\n",
              "      pipeline-1__1appDaysUrea  pipeline-1__Harv_hand_rent  \\\n",
              "3720                  0.525217                   -0.067504   \n",
              "1365                 -0.159989                   -0.278791   \n",
              "3168                  1.124773                   -0.401338   \n",
              "1703                 -1.873006                    0.101527   \n",
              "2162                 -0.502593                    0.439587   \n",
              "\n",
              "      pipeline-1__Residue_length  pipeline-1__Residue_perc  pipeline-1__Acre  \n",
              "3720                    1.088516                 -0.207205         -0.030530  \n",
              "1365                    0.442213                 -0.207205         -0.233075  \n",
              "3168                   -0.527241                 -0.207205          1.296010  \n",
              "1703                   -0.204090                 -0.207205          1.206064  \n",
              "2162                   -1.496695                 -0.207205          2.933031  "
            ]
          },
          "execution_count": 46,
          "metadata": {},
          "output_type": "execute_result"
        }
      ],
      "source": [
        "# extra code – shows that we can get a DataFrame out if we want\n",
        "dfTin_prepared_fr = pd.DataFrame(\n",
        "    X_train,\n",
        "    columns=preprocessing.get_feature_names_out(),\n",
        "    index=dfTin.index)\n",
        "dfTin_prepared_fr.head()"
      ]
    },
    {
      "cell_type": "code",
      "execution_count": null,
      "id": "81464d4f",
      "metadata": {
        "id": "81464d4f",
        "outputId": "a5d48e7e-184a-4f0f-b496-c8c79c2fdd87"
      },
      "outputs": [
        {
          "data": {
            "text/html": [
              "<style>#sk-container-id-2 {color: black;background-color: white;}#sk-container-id-2 pre{padding: 0;}#sk-container-id-2 div.sk-toggleable {background-color: white;}#sk-container-id-2 label.sk-toggleable__label {cursor: pointer;display: block;width: 100%;margin-bottom: 0;padding: 0.3em;box-sizing: border-box;text-align: center;}#sk-container-id-2 label.sk-toggleable__label-arrow:before {content: \"▸\";float: left;margin-right: 0.25em;color: #696969;}#sk-container-id-2 label.sk-toggleable__label-arrow:hover:before {color: black;}#sk-container-id-2 div.sk-estimator:hover label.sk-toggleable__label-arrow:before {color: black;}#sk-container-id-2 div.sk-toggleable__content {max-height: 0;max-width: 0;overflow: hidden;text-align: left;background-color: #f0f8ff;}#sk-container-id-2 div.sk-toggleable__content pre {margin: 0.2em;color: black;border-radius: 0.25em;background-color: #f0f8ff;}#sk-container-id-2 input.sk-toggleable__control:checked~div.sk-toggleable__content {max-height: 200px;max-width: 100%;overflow: auto;}#sk-container-id-2 input.sk-toggleable__control:checked~label.sk-toggleable__label-arrow:before {content: \"▾\";}#sk-container-id-2 div.sk-estimator input.sk-toggleable__control:checked~label.sk-toggleable__label {background-color: #d4ebff;}#sk-container-id-2 div.sk-label input.sk-toggleable__control:checked~label.sk-toggleable__label {background-color: #d4ebff;}#sk-container-id-2 input.sk-hidden--visually {border: 0;clip: rect(1px 1px 1px 1px);clip: rect(1px, 1px, 1px, 1px);height: 1px;margin: -1px;overflow: hidden;padding: 0;position: absolute;width: 1px;}#sk-container-id-2 div.sk-estimator {font-family: monospace;background-color: #f0f8ff;border: 1px dotted black;border-radius: 0.25em;box-sizing: border-box;margin-bottom: 0.5em;}#sk-container-id-2 div.sk-estimator:hover {background-color: #d4ebff;}#sk-container-id-2 div.sk-parallel-item::after {content: \"\";width: 100%;border-bottom: 1px solid gray;flex-grow: 1;}#sk-container-id-2 div.sk-label:hover label.sk-toggleable__label {background-color: #d4ebff;}#sk-container-id-2 div.sk-serial::before {content: \"\";position: absolute;border-left: 1px solid gray;box-sizing: border-box;top: 0;bottom: 0;left: 50%;z-index: 0;}#sk-container-id-2 div.sk-serial {display: flex;flex-direction: column;align-items: center;background-color: white;padding-right: 0.2em;padding-left: 0.2em;position: relative;}#sk-container-id-2 div.sk-item {position: relative;z-index: 1;}#sk-container-id-2 div.sk-parallel {display: flex;align-items: stretch;justify-content: center;background-color: white;position: relative;}#sk-container-id-2 div.sk-item::before, #sk-container-id-2 div.sk-parallel-item::before {content: \"\";position: absolute;border-left: 1px solid gray;box-sizing: border-box;top: 0;bottom: 0;left: 50%;z-index: -1;}#sk-container-id-2 div.sk-parallel-item {display: flex;flex-direction: column;z-index: 1;position: relative;background-color: white;}#sk-container-id-2 div.sk-parallel-item:first-child::after {align-self: flex-end;width: 50%;}#sk-container-id-2 div.sk-parallel-item:last-child::after {align-self: flex-start;width: 50%;}#sk-container-id-2 div.sk-parallel-item:only-child::after {width: 0;}#sk-container-id-2 div.sk-dashed-wrapped {border: 1px dashed gray;margin: 0 0.4em 0.5em 0.4em;box-sizing: border-box;padding-bottom: 0.4em;background-color: white;}#sk-container-id-2 div.sk-label label {font-family: monospace;font-weight: bold;display: inline-block;line-height: 1.2em;}#sk-container-id-2 div.sk-label-container {text-align: center;}#sk-container-id-2 div.sk-container {/* jupyter's `normalize.less` sets `[hidden] { display: none; }` but bootstrap.min.css set `[hidden] { display: none !important; }` so we also need the `!important` here to be able to override the default hidden behavior on the sphinx rendered scikit-learn.org. See: https://github.com/scikit-learn/scikit-learn/issues/21755 */display: inline-block !important;position: relative;}#sk-container-id-2 div.sk-text-repr-fallback {display: none;}</style><div id=\"sk-container-id-2\" class=\"sk-top-container\"><div class=\"sk-text-repr-fallback\"><pre>Pipeline(steps=[(&#x27;columntransformer&#x27;,\n",
              "                 ColumnTransformer(transformers=[(&#x27;pipeline-1&#x27;,\n",
              "                                                  Pipeline(steps=[(&#x27;imputer&#x27;,\n",
              "                                                                   SimpleImputer(strategy=&#x27;median&#x27;)),\n",
              "                                                                  (&#x27;scaler&#x27;,\n",
              "                                                                   StandardScaler())]),\n",
              "                                                  &lt;sklearn.compose._column_transformer.make_column_selector object at 0x00000289544F3460&gt;),\n",
              "                                                 (&#x27;pipeline-2&#x27;,\n",
              "                                                  Pipeline(steps=[(&#x27;ordinal_encoder&#x27;,\n",
              "                                                                   OrdinalEncoder()),\n",
              "                                                                  (&#x27;imputer&#x27;,\n",
              "                                                                   SimpleImputer(strategy=&#x27;most_frequent&#x27;)),\n",
              "                                                                  (&#x27;cat_encoder&#x27;,\n",
              "                                                                   OneHotEncoder(sparse=False))]),\n",
              "                                                  &lt;sklearn.compose._column_transformer.make_column_selector object at 0x00000289545215D0&gt;)])),\n",
              "                (&#x27;linearregression&#x27;, LinearRegression())])</pre><b>In a Jupyter environment, please rerun this cell to show the HTML representation or trust the notebook. <br />On GitHub, the HTML representation is unable to render, please try loading this page with nbviewer.org.</b></div><div class=\"sk-container\" hidden><div class=\"sk-item sk-dashed-wrapped\"><div class=\"sk-label-container\"><div class=\"sk-label sk-toggleable\"><input class=\"sk-toggleable__control sk-hidden--visually\" id=\"sk-estimator-id-2\" type=\"checkbox\" ><label for=\"sk-estimator-id-2\" class=\"sk-toggleable__label sk-toggleable__label-arrow\">Pipeline</label><div class=\"sk-toggleable__content\"><pre>Pipeline(steps=[(&#x27;columntransformer&#x27;,\n",
              "                 ColumnTransformer(transformers=[(&#x27;pipeline-1&#x27;,\n",
              "                                                  Pipeline(steps=[(&#x27;imputer&#x27;,\n",
              "                                                                   SimpleImputer(strategy=&#x27;median&#x27;)),\n",
              "                                                                  (&#x27;scaler&#x27;,\n",
              "                                                                   StandardScaler())]),\n",
              "                                                  &lt;sklearn.compose._column_transformer.make_column_selector object at 0x00000289544F3460&gt;),\n",
              "                                                 (&#x27;pipeline-2&#x27;,\n",
              "                                                  Pipeline(steps=[(&#x27;ordinal_encoder&#x27;,\n",
              "                                                                   OrdinalEncoder()),\n",
              "                                                                  (&#x27;imputer&#x27;,\n",
              "                                                                   SimpleImputer(strategy=&#x27;most_frequent&#x27;)),\n",
              "                                                                  (&#x27;cat_encoder&#x27;,\n",
              "                                                                   OneHotEncoder(sparse=False))]),\n",
              "                                                  &lt;sklearn.compose._column_transformer.make_column_selector object at 0x00000289545215D0&gt;)])),\n",
              "                (&#x27;linearregression&#x27;, LinearRegression())])</pre></div></div></div><div class=\"sk-serial\"><div class=\"sk-item sk-dashed-wrapped\"><div class=\"sk-label-container\"><div class=\"sk-label sk-toggleable\"><input class=\"sk-toggleable__control sk-hidden--visually\" id=\"sk-estimator-id-3\" type=\"checkbox\" ><label for=\"sk-estimator-id-3\" class=\"sk-toggleable__label sk-toggleable__label-arrow\">columntransformer: ColumnTransformer</label><div class=\"sk-toggleable__content\"><pre>ColumnTransformer(transformers=[(&#x27;pipeline-1&#x27;,\n",
              "                                 Pipeline(steps=[(&#x27;imputer&#x27;,\n",
              "                                                  SimpleImputer(strategy=&#x27;median&#x27;)),\n",
              "                                                 (&#x27;scaler&#x27;, StandardScaler())]),\n",
              "                                 &lt;sklearn.compose._column_transformer.make_column_selector object at 0x00000289544F3460&gt;),\n",
              "                                (&#x27;pipeline-2&#x27;,\n",
              "                                 Pipeline(steps=[(&#x27;ordinal_encoder&#x27;,\n",
              "                                                  OrdinalEncoder()),\n",
              "                                                 (&#x27;imputer&#x27;,\n",
              "                                                  SimpleImputer(strategy=&#x27;most_frequent&#x27;)),\n",
              "                                                 (&#x27;cat_encoder&#x27;,\n",
              "                                                  OneHotEncoder(sparse=False))]),\n",
              "                                 &lt;sklearn.compose._column_transformer.make_column_selector object at 0x00000289545215D0&gt;)])</pre></div></div></div><div class=\"sk-parallel\"><div class=\"sk-parallel-item\"><div class=\"sk-item\"><div class=\"sk-label-container\"><div class=\"sk-label sk-toggleable\"><input class=\"sk-toggleable__control sk-hidden--visually\" id=\"sk-estimator-id-4\" type=\"checkbox\" ><label for=\"sk-estimator-id-4\" class=\"sk-toggleable__label sk-toggleable__label-arrow\">pipeline-1</label><div class=\"sk-toggleable__content\"><pre>&lt;sklearn.compose._column_transformer.make_column_selector object at 0x00000289544F3460&gt;</pre></div></div></div><div class=\"sk-serial\"><div class=\"sk-item\"><div class=\"sk-serial\"><div class=\"sk-item\"><div class=\"sk-estimator sk-toggleable\"><input class=\"sk-toggleable__control sk-hidden--visually\" id=\"sk-estimator-id-5\" type=\"checkbox\" ><label for=\"sk-estimator-id-5\" class=\"sk-toggleable__label sk-toggleable__label-arrow\">SimpleImputer</label><div class=\"sk-toggleable__content\"><pre>SimpleImputer(strategy=&#x27;median&#x27;)</pre></div></div></div><div class=\"sk-item\"><div class=\"sk-estimator sk-toggleable\"><input class=\"sk-toggleable__control sk-hidden--visually\" id=\"sk-estimator-id-6\" type=\"checkbox\" ><label for=\"sk-estimator-id-6\" class=\"sk-toggleable__label sk-toggleable__label-arrow\">StandardScaler</label><div class=\"sk-toggleable__content\"><pre>StandardScaler()</pre></div></div></div></div></div></div></div></div><div class=\"sk-parallel-item\"><div class=\"sk-item\"><div class=\"sk-label-container\"><div class=\"sk-label sk-toggleable\"><input class=\"sk-toggleable__control sk-hidden--visually\" id=\"sk-estimator-id-7\" type=\"checkbox\" ><label for=\"sk-estimator-id-7\" class=\"sk-toggleable__label sk-toggleable__label-arrow\">pipeline-2</label><div class=\"sk-toggleable__content\"><pre>&lt;sklearn.compose._column_transformer.make_column_selector object at 0x00000289545215D0&gt;</pre></div></div></div><div class=\"sk-serial\"><div class=\"sk-item\"><div class=\"sk-serial\"><div class=\"sk-item\"><div class=\"sk-estimator sk-toggleable\"><input class=\"sk-toggleable__control sk-hidden--visually\" id=\"sk-estimator-id-8\" type=\"checkbox\" ><label for=\"sk-estimator-id-8\" class=\"sk-toggleable__label sk-toggleable__label-arrow\">OrdinalEncoder</label><div class=\"sk-toggleable__content\"><pre>OrdinalEncoder()</pre></div></div></div><div class=\"sk-item\"><div class=\"sk-estimator sk-toggleable\"><input class=\"sk-toggleable__control sk-hidden--visually\" id=\"sk-estimator-id-9\" type=\"checkbox\" ><label for=\"sk-estimator-id-9\" class=\"sk-toggleable__label sk-toggleable__label-arrow\">SimpleImputer</label><div class=\"sk-toggleable__content\"><pre>SimpleImputer(strategy=&#x27;most_frequent&#x27;)</pre></div></div></div><div class=\"sk-item\"><div class=\"sk-estimator sk-toggleable\"><input class=\"sk-toggleable__control sk-hidden--visually\" id=\"sk-estimator-id-10\" type=\"checkbox\" ><label for=\"sk-estimator-id-10\" class=\"sk-toggleable__label sk-toggleable__label-arrow\">OneHotEncoder</label><div class=\"sk-toggleable__content\"><pre>OneHotEncoder(sparse=False)</pre></div></div></div></div></div></div></div></div></div></div><div class=\"sk-item\"><div class=\"sk-estimator sk-toggleable\"><input class=\"sk-toggleable__control sk-hidden--visually\" id=\"sk-estimator-id-11\" type=\"checkbox\" ><label for=\"sk-estimator-id-11\" class=\"sk-toggleable__label sk-toggleable__label-arrow\">LinearRegression</label><div class=\"sk-toggleable__content\"><pre>LinearRegression()</pre></div></div></div></div></div></div></div>"
            ],
            "text/plain": [
              "Pipeline(steps=[('columntransformer',\n",
              "                 ColumnTransformer(transformers=[('pipeline-1',\n",
              "                                                  Pipeline(steps=[('imputer',\n",
              "                                                                   SimpleImputer(strategy='median')),\n",
              "                                                                  ('scaler',\n",
              "                                                                   StandardScaler())]),\n",
              "                                                  <sklearn.compose._column_transformer.make_column_selector object at 0x00000289544F3460>),\n",
              "                                                 ('pipeline-2',\n",
              "                                                  Pipeline(steps=[('ordinal_encoder',\n",
              "                                                                   OrdinalEncoder()),\n",
              "                                                                  ('imputer',\n",
              "                                                                   SimpleImputer(strategy='most_frequent')),\n",
              "                                                                  ('cat_encoder',\n",
              "                                                                   OneHotEncoder(sparse=False))]),\n",
              "                                                  <sklearn.compose._column_transformer.make_column_selector object at 0x00000289545215D0>)])),\n",
              "                ('linearregression', LinearRegression())])"
            ]
          },
          "execution_count": 47,
          "metadata": {},
          "output_type": "execute_result"
        }
      ],
      "source": [
        "from sklearn.linear_model import LinearRegression\n",
        "\n",
        "lin_reg = make_pipeline(preprocessing, LinearRegression())\n",
        "lin_reg.fit(dfTin.fillna(0), dfTin_labels)"
      ]
    },
    {
      "cell_type": "code",
      "execution_count": null,
      "id": "42d0d4e4",
      "metadata": {
        "id": "42d0d4e4",
        "outputId": "9a2c4a4a-2b93-43ed-8d17-238cfa1f9564"
      },
      "outputs": [
        {
          "data": {
            "text/plain": [
              "array([ 400.,  400., 1000., 1000., 1600.])"
            ]
          },
          "execution_count": 48,
          "metadata": {},
          "output_type": "execute_result"
        }
      ],
      "source": [
        "dfTin_predictions = lin_reg.predict(dfTin.fillna(0))\n",
        "dfTin_predictions[:5].round(-2)  # -2 = rounded to the nearest hundred"
      ]
    },
    {
      "cell_type": "code",
      "execution_count": null,
      "id": "c6e05579",
      "metadata": {
        "id": "c6e05579",
        "outputId": "487c5bc6-e362-40b6-c26f-97c79cea93be"
      },
      "outputs": [
        {
          "data": {
            "text/plain": [
              "array([ 546,  375,  900,  800, 1600], dtype=int64)"
            ]
          },
          "execution_count": 49,
          "metadata": {},
          "output_type": "execute_result"
        }
      ],
      "source": [
        "dfTin_labels.iloc[:5].values"
      ]
    },
    {
      "cell_type": "code",
      "execution_count": null,
      "id": "255fb2d3",
      "metadata": {
        "id": "255fb2d3",
        "outputId": "e8bf5ea1-8a87-45f4-bbec-bce1404a5fe5"
      },
      "outputs": [
        {
          "name": "stdout",
          "output_type": "stream",
          "text": [
            "-26.7%, 6.7%, 11.1%, 25.0%, 0.0%\n"
          ]
        }
      ],
      "source": [
        "# extra code – computes the error ratios discussed in the book\n",
        "error_ratios = dfTin_predictions[:5].round(-2) / dfTin_labels.iloc[:5].values - 1\n",
        "print(\", \".join([f\"{100 * ratio:.1f}%\" for ratio in error_ratios]))"
      ]
    },
    {
      "cell_type": "code",
      "execution_count": null,
      "id": "7f0516f7",
      "metadata": {
        "id": "7f0516f7",
        "outputId": "503000b7-1b15-4feb-e87f-e370c0de39be"
      },
      "outputs": [
        {
          "data": {
            "text/plain": [
              "455.0540960447387"
            ]
          },
          "execution_count": 51,
          "metadata": {},
          "output_type": "execute_result"
        }
      ],
      "source": [
        "from sklearn.metrics import mean_squared_error\n",
        "\n",
        "lin_rmse = mean_squared_error(dfTin_labels, dfTin_predictions,\n",
        "                              squared=False)\n",
        "lin_rmse"
      ]
    },
    {
      "cell_type": "code",
      "execution_count": null,
      "id": "d93300ef",
      "metadata": {
        "id": "d93300ef",
        "outputId": "75ef1e6b-1601-4d2c-d40a-7aefd09b7db0"
      },
      "outputs": [
        {
          "data": {
            "text/html": [
              "<style>#sk-container-id-3 {color: black;background-color: white;}#sk-container-id-3 pre{padding: 0;}#sk-container-id-3 div.sk-toggleable {background-color: white;}#sk-container-id-3 label.sk-toggleable__label {cursor: pointer;display: block;width: 100%;margin-bottom: 0;padding: 0.3em;box-sizing: border-box;text-align: center;}#sk-container-id-3 label.sk-toggleable__label-arrow:before {content: \"▸\";float: left;margin-right: 0.25em;color: #696969;}#sk-container-id-3 label.sk-toggleable__label-arrow:hover:before {color: black;}#sk-container-id-3 div.sk-estimator:hover label.sk-toggleable__label-arrow:before {color: black;}#sk-container-id-3 div.sk-toggleable__content {max-height: 0;max-width: 0;overflow: hidden;text-align: left;background-color: #f0f8ff;}#sk-container-id-3 div.sk-toggleable__content pre {margin: 0.2em;color: black;border-radius: 0.25em;background-color: #f0f8ff;}#sk-container-id-3 input.sk-toggleable__control:checked~div.sk-toggleable__content {max-height: 200px;max-width: 100%;overflow: auto;}#sk-container-id-3 input.sk-toggleable__control:checked~label.sk-toggleable__label-arrow:before {content: \"▾\";}#sk-container-id-3 div.sk-estimator input.sk-toggleable__control:checked~label.sk-toggleable__label {background-color: #d4ebff;}#sk-container-id-3 div.sk-label input.sk-toggleable__control:checked~label.sk-toggleable__label {background-color: #d4ebff;}#sk-container-id-3 input.sk-hidden--visually {border: 0;clip: rect(1px 1px 1px 1px);clip: rect(1px, 1px, 1px, 1px);height: 1px;margin: -1px;overflow: hidden;padding: 0;position: absolute;width: 1px;}#sk-container-id-3 div.sk-estimator {font-family: monospace;background-color: #f0f8ff;border: 1px dotted black;border-radius: 0.25em;box-sizing: border-box;margin-bottom: 0.5em;}#sk-container-id-3 div.sk-estimator:hover {background-color: #d4ebff;}#sk-container-id-3 div.sk-parallel-item::after {content: \"\";width: 100%;border-bottom: 1px solid gray;flex-grow: 1;}#sk-container-id-3 div.sk-label:hover label.sk-toggleable__label {background-color: #d4ebff;}#sk-container-id-3 div.sk-serial::before {content: \"\";position: absolute;border-left: 1px solid gray;box-sizing: border-box;top: 0;bottom: 0;left: 50%;z-index: 0;}#sk-container-id-3 div.sk-serial {display: flex;flex-direction: column;align-items: center;background-color: white;padding-right: 0.2em;padding-left: 0.2em;position: relative;}#sk-container-id-3 div.sk-item {position: relative;z-index: 1;}#sk-container-id-3 div.sk-parallel {display: flex;align-items: stretch;justify-content: center;background-color: white;position: relative;}#sk-container-id-3 div.sk-item::before, #sk-container-id-3 div.sk-parallel-item::before {content: \"\";position: absolute;border-left: 1px solid gray;box-sizing: border-box;top: 0;bottom: 0;left: 50%;z-index: -1;}#sk-container-id-3 div.sk-parallel-item {display: flex;flex-direction: column;z-index: 1;position: relative;background-color: white;}#sk-container-id-3 div.sk-parallel-item:first-child::after {align-self: flex-end;width: 50%;}#sk-container-id-3 div.sk-parallel-item:last-child::after {align-self: flex-start;width: 50%;}#sk-container-id-3 div.sk-parallel-item:only-child::after {width: 0;}#sk-container-id-3 div.sk-dashed-wrapped {border: 1px dashed gray;margin: 0 0.4em 0.5em 0.4em;box-sizing: border-box;padding-bottom: 0.4em;background-color: white;}#sk-container-id-3 div.sk-label label {font-family: monospace;font-weight: bold;display: inline-block;line-height: 1.2em;}#sk-container-id-3 div.sk-label-container {text-align: center;}#sk-container-id-3 div.sk-container {/* jupyter's `normalize.less` sets `[hidden] { display: none; }` but bootstrap.min.css set `[hidden] { display: none !important; }` so we also need the `!important` here to be able to override the default hidden behavior on the sphinx rendered scikit-learn.org. See: https://github.com/scikit-learn/scikit-learn/issues/21755 */display: inline-block !important;position: relative;}#sk-container-id-3 div.sk-text-repr-fallback {display: none;}</style><div id=\"sk-container-id-3\" class=\"sk-top-container\"><div class=\"sk-text-repr-fallback\"><pre>Pipeline(steps=[(&#x27;columntransformer&#x27;,\n",
              "                 ColumnTransformer(transformers=[(&#x27;pipeline-1&#x27;,\n",
              "                                                  Pipeline(steps=[(&#x27;imputer&#x27;,\n",
              "                                                                   SimpleImputer(strategy=&#x27;median&#x27;)),\n",
              "                                                                  (&#x27;scaler&#x27;,\n",
              "                                                                   StandardScaler())]),\n",
              "                                                  &lt;sklearn.compose._column_transformer.make_column_selector object at 0x00000289544F3460&gt;),\n",
              "                                                 (&#x27;pipeline-2&#x27;,\n",
              "                                                  Pipeline(steps=[(&#x27;ordinal_encoder&#x27;,\n",
              "                                                                   OrdinalEncoder()),\n",
              "                                                                  (&#x27;imputer&#x27;,\n",
              "                                                                   SimpleImputer(strategy=&#x27;most_frequent&#x27;)),\n",
              "                                                                  (&#x27;cat_encoder&#x27;,\n",
              "                                                                   OneHotEncoder(sparse=False))]),\n",
              "                                                  &lt;sklearn.compose._column_transformer.make_column_selector object at 0x00000289545215D0&gt;)])),\n",
              "                (&#x27;decisiontreeregressor&#x27;,\n",
              "                 DecisionTreeRegressor(random_state=42))])</pre><b>In a Jupyter environment, please rerun this cell to show the HTML representation or trust the notebook. <br />On GitHub, the HTML representation is unable to render, please try loading this page with nbviewer.org.</b></div><div class=\"sk-container\" hidden><div class=\"sk-item sk-dashed-wrapped\"><div class=\"sk-label-container\"><div class=\"sk-label sk-toggleable\"><input class=\"sk-toggleable__control sk-hidden--visually\" id=\"sk-estimator-id-12\" type=\"checkbox\" ><label for=\"sk-estimator-id-12\" class=\"sk-toggleable__label sk-toggleable__label-arrow\">Pipeline</label><div class=\"sk-toggleable__content\"><pre>Pipeline(steps=[(&#x27;columntransformer&#x27;,\n",
              "                 ColumnTransformer(transformers=[(&#x27;pipeline-1&#x27;,\n",
              "                                                  Pipeline(steps=[(&#x27;imputer&#x27;,\n",
              "                                                                   SimpleImputer(strategy=&#x27;median&#x27;)),\n",
              "                                                                  (&#x27;scaler&#x27;,\n",
              "                                                                   StandardScaler())]),\n",
              "                                                  &lt;sklearn.compose._column_transformer.make_column_selector object at 0x00000289544F3460&gt;),\n",
              "                                                 (&#x27;pipeline-2&#x27;,\n",
              "                                                  Pipeline(steps=[(&#x27;ordinal_encoder&#x27;,\n",
              "                                                                   OrdinalEncoder()),\n",
              "                                                                  (&#x27;imputer&#x27;,\n",
              "                                                                   SimpleImputer(strategy=&#x27;most_frequent&#x27;)),\n",
              "                                                                  (&#x27;cat_encoder&#x27;,\n",
              "                                                                   OneHotEncoder(sparse=False))]),\n",
              "                                                  &lt;sklearn.compose._column_transformer.make_column_selector object at 0x00000289545215D0&gt;)])),\n",
              "                (&#x27;decisiontreeregressor&#x27;,\n",
              "                 DecisionTreeRegressor(random_state=42))])</pre></div></div></div><div class=\"sk-serial\"><div class=\"sk-item sk-dashed-wrapped\"><div class=\"sk-label-container\"><div class=\"sk-label sk-toggleable\"><input class=\"sk-toggleable__control sk-hidden--visually\" id=\"sk-estimator-id-13\" type=\"checkbox\" ><label for=\"sk-estimator-id-13\" class=\"sk-toggleable__label sk-toggleable__label-arrow\">columntransformer: ColumnTransformer</label><div class=\"sk-toggleable__content\"><pre>ColumnTransformer(transformers=[(&#x27;pipeline-1&#x27;,\n",
              "                                 Pipeline(steps=[(&#x27;imputer&#x27;,\n",
              "                                                  SimpleImputer(strategy=&#x27;median&#x27;)),\n",
              "                                                 (&#x27;scaler&#x27;, StandardScaler())]),\n",
              "                                 &lt;sklearn.compose._column_transformer.make_column_selector object at 0x00000289544F3460&gt;),\n",
              "                                (&#x27;pipeline-2&#x27;,\n",
              "                                 Pipeline(steps=[(&#x27;ordinal_encoder&#x27;,\n",
              "                                                  OrdinalEncoder()),\n",
              "                                                 (&#x27;imputer&#x27;,\n",
              "                                                  SimpleImputer(strategy=&#x27;most_frequent&#x27;)),\n",
              "                                                 (&#x27;cat_encoder&#x27;,\n",
              "                                                  OneHotEncoder(sparse=False))]),\n",
              "                                 &lt;sklearn.compose._column_transformer.make_column_selector object at 0x00000289545215D0&gt;)])</pre></div></div></div><div class=\"sk-parallel\"><div class=\"sk-parallel-item\"><div class=\"sk-item\"><div class=\"sk-label-container\"><div class=\"sk-label sk-toggleable\"><input class=\"sk-toggleable__control sk-hidden--visually\" id=\"sk-estimator-id-14\" type=\"checkbox\" ><label for=\"sk-estimator-id-14\" class=\"sk-toggleable__label sk-toggleable__label-arrow\">pipeline-1</label><div class=\"sk-toggleable__content\"><pre>&lt;sklearn.compose._column_transformer.make_column_selector object at 0x00000289544F3460&gt;</pre></div></div></div><div class=\"sk-serial\"><div class=\"sk-item\"><div class=\"sk-serial\"><div class=\"sk-item\"><div class=\"sk-estimator sk-toggleable\"><input class=\"sk-toggleable__control sk-hidden--visually\" id=\"sk-estimator-id-15\" type=\"checkbox\" ><label for=\"sk-estimator-id-15\" class=\"sk-toggleable__label sk-toggleable__label-arrow\">SimpleImputer</label><div class=\"sk-toggleable__content\"><pre>SimpleImputer(strategy=&#x27;median&#x27;)</pre></div></div></div><div class=\"sk-item\"><div class=\"sk-estimator sk-toggleable\"><input class=\"sk-toggleable__control sk-hidden--visually\" id=\"sk-estimator-id-16\" type=\"checkbox\" ><label for=\"sk-estimator-id-16\" class=\"sk-toggleable__label sk-toggleable__label-arrow\">StandardScaler</label><div class=\"sk-toggleable__content\"><pre>StandardScaler()</pre></div></div></div></div></div></div></div></div><div class=\"sk-parallel-item\"><div class=\"sk-item\"><div class=\"sk-label-container\"><div class=\"sk-label sk-toggleable\"><input class=\"sk-toggleable__control sk-hidden--visually\" id=\"sk-estimator-id-17\" type=\"checkbox\" ><label for=\"sk-estimator-id-17\" class=\"sk-toggleable__label sk-toggleable__label-arrow\">pipeline-2</label><div class=\"sk-toggleable__content\"><pre>&lt;sklearn.compose._column_transformer.make_column_selector object at 0x00000289545215D0&gt;</pre></div></div></div><div class=\"sk-serial\"><div class=\"sk-item\"><div class=\"sk-serial\"><div class=\"sk-item\"><div class=\"sk-estimator sk-toggleable\"><input class=\"sk-toggleable__control sk-hidden--visually\" id=\"sk-estimator-id-18\" type=\"checkbox\" ><label for=\"sk-estimator-id-18\" class=\"sk-toggleable__label sk-toggleable__label-arrow\">OrdinalEncoder</label><div class=\"sk-toggleable__content\"><pre>OrdinalEncoder()</pre></div></div></div><div class=\"sk-item\"><div class=\"sk-estimator sk-toggleable\"><input class=\"sk-toggleable__control sk-hidden--visually\" id=\"sk-estimator-id-19\" type=\"checkbox\" ><label for=\"sk-estimator-id-19\" class=\"sk-toggleable__label sk-toggleable__label-arrow\">SimpleImputer</label><div class=\"sk-toggleable__content\"><pre>SimpleImputer(strategy=&#x27;most_frequent&#x27;)</pre></div></div></div><div class=\"sk-item\"><div class=\"sk-estimator sk-toggleable\"><input class=\"sk-toggleable__control sk-hidden--visually\" id=\"sk-estimator-id-20\" type=\"checkbox\" ><label for=\"sk-estimator-id-20\" class=\"sk-toggleable__label sk-toggleable__label-arrow\">OneHotEncoder</label><div class=\"sk-toggleable__content\"><pre>OneHotEncoder(sparse=False)</pre></div></div></div></div></div></div></div></div></div></div><div class=\"sk-item\"><div class=\"sk-estimator sk-toggleable\"><input class=\"sk-toggleable__control sk-hidden--visually\" id=\"sk-estimator-id-21\" type=\"checkbox\" ><label for=\"sk-estimator-id-21\" class=\"sk-toggleable__label sk-toggleable__label-arrow\">DecisionTreeRegressor</label><div class=\"sk-toggleable__content\"><pre>DecisionTreeRegressor(random_state=42)</pre></div></div></div></div></div></div></div>"
            ],
            "text/plain": [
              "Pipeline(steps=[('columntransformer',\n",
              "                 ColumnTransformer(transformers=[('pipeline-1',\n",
              "                                                  Pipeline(steps=[('imputer',\n",
              "                                                                   SimpleImputer(strategy='median')),\n",
              "                                                                  ('scaler',\n",
              "                                                                   StandardScaler())]),\n",
              "                                                  <sklearn.compose._column_transformer.make_column_selector object at 0x00000289544F3460>),\n",
              "                                                 ('pipeline-2',\n",
              "                                                  Pipeline(steps=[('ordinal_encoder',\n",
              "                                                                   OrdinalEncoder()),\n",
              "                                                                  ('imputer',\n",
              "                                                                   SimpleImputer(strategy='most_frequent')),\n",
              "                                                                  ('cat_encoder',\n",
              "                                                                   OneHotEncoder(sparse=False))]),\n",
              "                                                  <sklearn.compose._column_transformer.make_column_selector object at 0x00000289545215D0>)])),\n",
              "                ('decisiontreeregressor',\n",
              "                 DecisionTreeRegressor(random_state=42))])"
            ]
          },
          "execution_count": 52,
          "metadata": {},
          "output_type": "execute_result"
        }
      ],
      "source": [
        "from sklearn.tree import DecisionTreeRegressor\n",
        "\n",
        "tree_reg = make_pipeline(preprocessing, DecisionTreeRegressor(random_state=42))\n",
        "tree_reg.fit(dfTin.fillna(0), dfTin_labels)"
      ]
    },
    {
      "cell_type": "code",
      "execution_count": null,
      "id": "19894b9b",
      "metadata": {
        "id": "19894b9b",
        "outputId": "14a958cb-2b1a-46c5-aae4-585e4790c6cf"
      },
      "outputs": [
        {
          "data": {
            "text/plain": [
              "7.076151112251914"
            ]
          },
          "execution_count": 53,
          "metadata": {},
          "output_type": "execute_result"
        }
      ],
      "source": [
        "dfTin_predictions = tree_reg.predict(dfTin.fillna(0))\n",
        "tree_rmse = mean_squared_error(dfTin_labels, dfTin_predictions,\n",
        "                              squared=False)\n",
        "tree_rmse"
      ]
    },
    {
      "cell_type": "code",
      "execution_count": null,
      "id": "47532a09",
      "metadata": {
        "id": "47532a09"
      },
      "outputs": [],
      "source": [
        "from sklearn.model_selection import cross_val_score\n",
        "\n",
        "tree_rmses = -cross_val_score(tree_reg, dfTin.fillna(0), dfTin_labels,\n",
        "                              scoring=\"neg_root_mean_squared_error\", cv=10)"
      ]
    },
    {
      "cell_type": "code",
      "execution_count": null,
      "id": "466a7175",
      "metadata": {
        "id": "466a7175",
        "outputId": "053df294-b5f1-432a-82a7-761fc8994a05"
      },
      "outputs": [
        {
          "data": {
            "text/plain": [
              "count     10.000000\n",
              "mean     718.398279\n",
              "std      170.868928\n",
              "min      371.186005\n",
              "25%      656.543560\n",
              "50%      727.651820\n",
              "75%      851.846451\n",
              "max      940.212238\n",
              "dtype: float64"
            ]
          },
          "execution_count": 55,
          "metadata": {},
          "output_type": "execute_result"
        }
      ],
      "source": [
        "pd.Series(tree_rmses).describe()"
      ]
    },
    {
      "cell_type": "code",
      "execution_count": null,
      "id": "42addcf5",
      "metadata": {
        "id": "42addcf5",
        "outputId": "3f6c14f0-a617-4cce-9fe9-6dc4e817f95d"
      },
      "outputs": [
        {
          "data": {
            "text/plain": [
              "count     10.000000\n",
              "mean     400.996395\n",
              "std      245.336561\n",
              "min      156.237509\n",
              "25%      212.311187\n",
              "50%      317.713208\n",
              "75%      531.137541\n",
              "max      909.024957\n",
              "dtype: float64"
            ]
          },
          "execution_count": 56,
          "metadata": {},
          "output_type": "execute_result"
        }
      ],
      "source": [
        "# extra code – computes the error stats for the linear model\n",
        "lin_rmses = -cross_val_score(lin_reg, dfTin.fillna(0), dfTin_labels,\n",
        "                              scoring=\"neg_root_mean_squared_error\", cv=10)\n",
        "pd.Series(lin_rmses).describe()"
      ]
    },
    {
      "cell_type": "code",
      "execution_count": null,
      "id": "c59576d5",
      "metadata": {
        "id": "c59576d5"
      },
      "outputs": [],
      "source": [
        "from sklearn.ensemble import RandomForestRegressor\n",
        "\n",
        "forest_reg = make_pipeline(preprocessing,\n",
        "                           RandomForestRegressor(random_state=42))"
      ]
    },
    {
      "cell_type": "code",
      "execution_count": null,
      "id": "8e145a54",
      "metadata": {
        "id": "8e145a54"
      },
      "outputs": [],
      "source": [
        "forest_rmses = -cross_val_score(forest_reg, dfTin.fillna(0), dfTin_labels,\n",
        "                                scoring=\"neg_root_mean_squared_error\", cv=10)"
      ]
    },
    {
      "cell_type": "code",
      "execution_count": null,
      "id": "b84b084c",
      "metadata": {
        "id": "b84b084c",
        "outputId": "36992727-1046-4d31-985b-834de550b484"
      },
      "outputs": [
        {
          "data": {
            "text/plain": [
              "count     10.000000\n",
              "mean     444.103144\n",
              "std      211.418194\n",
              "min      211.269361\n",
              "25%      327.906650\n",
              "50%      363.574408\n",
              "75%      565.930033\n",
              "max      914.616357\n",
              "dtype: float64"
            ]
          },
          "execution_count": 59,
          "metadata": {},
          "output_type": "execute_result"
        }
      ],
      "source": [
        "pd.Series(forest_rmses).describe()"
      ]
    },
    {
      "cell_type": "code",
      "execution_count": null,
      "id": "89865d0e",
      "metadata": {
        "id": "89865d0e",
        "outputId": "12c78ed8-e789-4319-a80e-50940bf8b784"
      },
      "outputs": [
        {
          "data": {
            "text/plain": [
              "218.80463890408848"
            ]
          },
          "execution_count": 60,
          "metadata": {},
          "output_type": "execute_result"
        }
      ],
      "source": [
        "forest_reg.fit(dfTin.fillna(0), dfTin_labels)\n",
        "dfTin_predictions = forest_reg.predict(dfTin)\n",
        "forest_rmse = mean_squared_error(dfTin_labels, dfTin_predictions,\n",
        "                                 squared=False)\n",
        "forest_rmse"
      ]
    },
    {
      "cell_type": "code",
      "execution_count": null,
      "id": "49bf27df",
      "metadata": {
        "id": "49bf27df",
        "outputId": "99561a66-998d-4741-de9e-e08147b31990"
      },
      "outputs": [
        {
          "data": {
            "text/html": [
              "<div>\n",
              "<style scoped>\n",
              "    .dataframe tbody tr th:only-of-type {\n",
              "        vertical-align: middle;\n",
              "    }\n",
              "\n",
              "    .dataframe tbody tr th {\n",
              "        vertical-align: top;\n",
              "    }\n",
              "\n",
              "    .dataframe thead th {\n",
              "        text-align: right;\n",
              "    }\n",
              "</style>\n",
              "<table border=\"1\" class=\"dataframe\">\n",
              "  <thead>\n",
              "    <tr style=\"text-align: right;\">\n",
              "      <th></th>\n",
              "      <th>ID</th>\n",
              "      <th>Yield</th>\n",
              "    </tr>\n",
              "  </thead>\n",
              "  <tbody>\n",
              "    <tr>\n",
              "      <th>0</th>\n",
              "      <td>ID_F9XXEXN2ADR2</td>\n",
              "      <td>679.96</td>\n",
              "    </tr>\n",
              "    <tr>\n",
              "      <th>1</th>\n",
              "      <td>ID_SO3VW2X4QO93</td>\n",
              "      <td>418.26</td>\n",
              "    </tr>\n",
              "    <tr>\n",
              "      <th>2</th>\n",
              "      <td>ID_UKUQ7JM8E894</td>\n",
              "      <td>487.81</td>\n",
              "    </tr>\n",
              "    <tr>\n",
              "      <th>3</th>\n",
              "      <td>ID_QUISMWEZR2H4</td>\n",
              "      <td>301.00</td>\n",
              "    </tr>\n",
              "    <tr>\n",
              "      <th>4</th>\n",
              "      <td>ID_25JGI455VKCZ</td>\n",
              "      <td>658.03</td>\n",
              "    </tr>\n",
              "  </tbody>\n",
              "</table>\n",
              "</div>"
            ],
            "text/plain": [
              "                ID   Yield\n",
              "0  ID_F9XXEXN2ADR2  679.96\n",
              "1  ID_SO3VW2X4QO93  418.26\n",
              "2  ID_UKUQ7JM8E894  487.81\n",
              "3  ID_QUISMWEZR2H4  301.00\n",
              "4  ID_25JGI455VKCZ  658.03"
            ]
          },
          "execution_count": 61,
          "metadata": {},
          "output_type": "execute_result"
        }
      ],
      "source": [
        "# Make predictions on the Zindi test set\n",
        "preds = forest_reg.predict(dfTst.fillna(0))\n",
        "\n",
        "# Create submisiion file to be uploaded to Zindi for scoring\n",
        "subs = pd.DataFrame({'ID': dfTst.ID, 'Yield': preds})\n",
        "subs.to_csv('mysubmission1.csv', index = False)\n",
        "\n",
        "subs.head()"
      ]
    },
    {
      "cell_type": "code",
      "execution_count": null,
      "id": "d51efd78",
      "metadata": {
        "id": "d51efd78",
        "outputId": "ea121c20-4da4-4bf4-b419-879c89815c71"
      },
      "outputs": [
        {
          "data": {
            "text/plain": [
              "ID       0\n",
              "Yield    0\n",
              "dtype: int64"
            ]
          },
          "execution_count": 62,
          "metadata": {},
          "output_type": "execute_result"
        }
      ],
      "source": [
        "subs.isnull().sum()"
      ]
    },
    {
      "cell_type": "code",
      "execution_count": null,
      "id": "da343851",
      "metadata": {
        "id": "da343851",
        "outputId": "14cc51d2-4ae1-4ebe-e94c-5e7f30890019"
      },
      "outputs": [
        {
          "data": {
            "text/html": [
              "<div>\n",
              "<style scoped>\n",
              "    .dataframe tbody tr th:only-of-type {\n",
              "        vertical-align: middle;\n",
              "    }\n",
              "\n",
              "    .dataframe tbody tr th {\n",
              "        vertical-align: top;\n",
              "    }\n",
              "\n",
              "    .dataframe thead th {\n",
              "        text-align: right;\n",
              "    }\n",
              "</style>\n",
              "<table border=\"1\" class=\"dataframe\">\n",
              "  <thead>\n",
              "    <tr style=\"text-align: right;\">\n",
              "      <th></th>\n",
              "      <th>ID</th>\n",
              "      <th>Yield</th>\n",
              "    </tr>\n",
              "  </thead>\n",
              "  <tbody>\n",
              "    <tr>\n",
              "      <th>0</th>\n",
              "      <td>ID_F9XXEXN2ADR2</td>\n",
              "      <td>588.768266</td>\n",
              "    </tr>\n",
              "    <tr>\n",
              "      <th>1</th>\n",
              "      <td>ID_SO3VW2X4QO93</td>\n",
              "      <td>399.185730</td>\n",
              "    </tr>\n",
              "    <tr>\n",
              "      <th>2</th>\n",
              "      <td>ID_UKUQ7JM8E894</td>\n",
              "      <td>403.822369</td>\n",
              "    </tr>\n",
              "    <tr>\n",
              "      <th>3</th>\n",
              "      <td>ID_QUISMWEZR2H4</td>\n",
              "      <td>272.941941</td>\n",
              "    </tr>\n",
              "    <tr>\n",
              "      <th>4</th>\n",
              "      <td>ID_25JGI455VKCZ</td>\n",
              "      <td>662.240911</td>\n",
              "    </tr>\n",
              "  </tbody>\n",
              "</table>\n",
              "</div>"
            ],
            "text/plain": [
              "                ID       Yield\n",
              "0  ID_F9XXEXN2ADR2  588.768266\n",
              "1  ID_SO3VW2X4QO93  399.185730\n",
              "2  ID_UKUQ7JM8E894  403.822369\n",
              "3  ID_QUISMWEZR2H4  272.941941\n",
              "4  ID_25JGI455VKCZ  662.240911"
            ]
          },
          "execution_count": 63,
          "metadata": {},
          "output_type": "execute_result"
        }
      ],
      "source": [
        "# Make predictions on the Zindi test set\n",
        "preds = lin_reg.predict(dfTst.fillna(0))\n",
        "\n",
        "# Create submisiion file to be uploaded to Zindi for scoring\n",
        "subs = pd.DataFrame({'ID': dfTst.ID, 'Yield': preds})\n",
        "subs.to_csv('mysubmission2.csv', index = False)\n",
        "\n",
        "subs.head()"
      ]
    },
    {
      "cell_type": "code",
      "execution_count": null,
      "id": "12d6e7c7",
      "metadata": {
        "id": "12d6e7c7",
        "outputId": "e21ce716-a216-4a07-85c0-6a65729a436a"
      },
      "outputs": [
        {
          "data": {
            "text/html": [
              "<div>\n",
              "<style scoped>\n",
              "    .dataframe tbody tr th:only-of-type {\n",
              "        vertical-align: middle;\n",
              "    }\n",
              "\n",
              "    .dataframe tbody tr th {\n",
              "        vertical-align: top;\n",
              "    }\n",
              "\n",
              "    .dataframe thead th {\n",
              "        text-align: right;\n",
              "    }\n",
              "</style>\n",
              "<table border=\"1\" class=\"dataframe\">\n",
              "  <thead>\n",
              "    <tr style=\"text-align: right;\">\n",
              "      <th></th>\n",
              "      <th>ID</th>\n",
              "      <th>Yield</th>\n",
              "    </tr>\n",
              "  </thead>\n",
              "  <tbody>\n",
              "    <tr>\n",
              "      <th>0</th>\n",
              "      <td>ID_F9XXEXN2ADR2</td>\n",
              "      <td>800.0</td>\n",
              "    </tr>\n",
              "    <tr>\n",
              "      <th>1</th>\n",
              "      <td>ID_SO3VW2X4QO93</td>\n",
              "      <td>425.0</td>\n",
              "    </tr>\n",
              "    <tr>\n",
              "      <th>2</th>\n",
              "      <td>ID_UKUQ7JM8E894</td>\n",
              "      <td>410.0</td>\n",
              "    </tr>\n",
              "    <tr>\n",
              "      <th>3</th>\n",
              "      <td>ID_QUISMWEZR2H4</td>\n",
              "      <td>350.0</td>\n",
              "    </tr>\n",
              "    <tr>\n",
              "      <th>4</th>\n",
              "      <td>ID_25JGI455VKCZ</td>\n",
              "      <td>450.0</td>\n",
              "    </tr>\n",
              "  </tbody>\n",
              "</table>\n",
              "</div>"
            ],
            "text/plain": [
              "                ID  Yield\n",
              "0  ID_F9XXEXN2ADR2  800.0\n",
              "1  ID_SO3VW2X4QO93  425.0\n",
              "2  ID_UKUQ7JM8E894  410.0\n",
              "3  ID_QUISMWEZR2H4  350.0\n",
              "4  ID_25JGI455VKCZ  450.0"
            ]
          },
          "execution_count": 64,
          "metadata": {},
          "output_type": "execute_result"
        }
      ],
      "source": [
        "# Make predictions on the Zindi test set\n",
        "preds = tree_reg.predict(dfTst.fillna(0))\n",
        "\n",
        "# Create submisiion file to be uploaded to Zindi for scoring\n",
        "subs = pd.DataFrame({'ID': dfTst.ID, 'Yield': preds})\n",
        "subs.to_csv('mysubmission3.csv', index = False)\n",
        "\n",
        "subs.head()"
      ]
    },
    {
      "cell_type": "code",
      "execution_count": null,
      "id": "56d53d8c",
      "metadata": {
        "id": "56d53d8c",
        "outputId": "2cc4879f-08a1-4329-a92e-ccf7e9f61ec4"
      },
      "outputs": [
        {
          "data": {
            "text/html": [
              "<div>\n",
              "<style scoped>\n",
              "    .dataframe tbody tr th:only-of-type {\n",
              "        vertical-align: middle;\n",
              "    }\n",
              "\n",
              "    .dataframe tbody tr th {\n",
              "        vertical-align: top;\n",
              "    }\n",
              "\n",
              "    .dataframe thead th {\n",
              "        text-align: right;\n",
              "    }\n",
              "</style>\n",
              "<table border=\"1\" class=\"dataframe\">\n",
              "  <thead>\n",
              "    <tr style=\"text-align: right;\">\n",
              "      <th></th>\n",
              "      <th>ID</th>\n",
              "      <th>Yield</th>\n",
              "    </tr>\n",
              "  </thead>\n",
              "  <tbody>\n",
              "    <tr>\n",
              "      <th>0</th>\n",
              "      <td>ID_F9XXEXN2ADR2</td>\n",
              "      <td>588.768266</td>\n",
              "    </tr>\n",
              "    <tr>\n",
              "      <th>1</th>\n",
              "      <td>ID_SO3VW2X4QO93</td>\n",
              "      <td>399.185730</td>\n",
              "    </tr>\n",
              "    <tr>\n",
              "      <th>2</th>\n",
              "      <td>ID_UKUQ7JM8E894</td>\n",
              "      <td>403.822369</td>\n",
              "    </tr>\n",
              "    <tr>\n",
              "      <th>3</th>\n",
              "      <td>ID_QUISMWEZR2H4</td>\n",
              "      <td>272.941941</td>\n",
              "    </tr>\n",
              "    <tr>\n",
              "      <th>4</th>\n",
              "      <td>ID_25JGI455VKCZ</td>\n",
              "      <td>662.240911</td>\n",
              "    </tr>\n",
              "  </tbody>\n",
              "</table>\n",
              "</div>"
            ],
            "text/plain": [
              "                ID       Yield\n",
              "0  ID_F9XXEXN2ADR2  588.768266\n",
              "1  ID_SO3VW2X4QO93  399.185730\n",
              "2  ID_UKUQ7JM8E894  403.822369\n",
              "3  ID_QUISMWEZR2H4  272.941941\n",
              "4  ID_25JGI455VKCZ  662.240911"
            ]
          },
          "execution_count": 65,
          "metadata": {},
          "output_type": "execute_result"
        }
      ],
      "source": [
        "# Make predictions on the Zindi test set\n",
        "preds = lin_reg.predict(dfTst.fillna(0))\n",
        "\n",
        "# Create submisiion file to be uploaded to Zindi for scoring\n",
        "subs = pd.DataFrame({'ID': dfTst.ID, 'Yield': preds})\n",
        "subs.to_csv('mysubmission4.csv', index = False)\n",
        "\n",
        "subs.head()"
      ]
    },
    {
      "cell_type": "code",
      "execution_count": null,
      "id": "2126aead",
      "metadata": {
        "id": "2126aead",
        "outputId": "a93854c1-fd11-4ba1-9988-e2181ca03378"
      },
      "outputs": [
        {
          "data": {
            "text/html": [
              "<div>\n",
              "<style scoped>\n",
              "    .dataframe tbody tr th:only-of-type {\n",
              "        vertical-align: middle;\n",
              "    }\n",
              "\n",
              "    .dataframe tbody tr th {\n",
              "        vertical-align: top;\n",
              "    }\n",
              "\n",
              "    .dataframe thead th {\n",
              "        text-align: right;\n",
              "    }\n",
              "</style>\n",
              "<table border=\"1\" class=\"dataframe\">\n",
              "  <thead>\n",
              "    <tr style=\"text-align: right;\">\n",
              "      <th></th>\n",
              "      <th>ID</th>\n",
              "      <th>Yield</th>\n",
              "    </tr>\n",
              "  </thead>\n",
              "  <tbody>\n",
              "    <tr>\n",
              "      <th>0</th>\n",
              "      <td>ID_F9XXEXN2ADR2</td>\n",
              "      <td>588.768266</td>\n",
              "    </tr>\n",
              "    <tr>\n",
              "      <th>1</th>\n",
              "      <td>ID_SO3VW2X4QO93</td>\n",
              "      <td>399.185730</td>\n",
              "    </tr>\n",
              "    <tr>\n",
              "      <th>2</th>\n",
              "      <td>ID_UKUQ7JM8E894</td>\n",
              "      <td>403.822369</td>\n",
              "    </tr>\n",
              "    <tr>\n",
              "      <th>3</th>\n",
              "      <td>ID_QUISMWEZR2H4</td>\n",
              "      <td>272.941941</td>\n",
              "    </tr>\n",
              "    <tr>\n",
              "      <th>4</th>\n",
              "      <td>ID_25JGI455VKCZ</td>\n",
              "      <td>662.240911</td>\n",
              "    </tr>\n",
              "  </tbody>\n",
              "</table>\n",
              "</div>"
            ],
            "text/plain": [
              "                ID       Yield\n",
              "0  ID_F9XXEXN2ADR2  588.768266\n",
              "1  ID_SO3VW2X4QO93  399.185730\n",
              "2  ID_UKUQ7JM8E894  403.822369\n",
              "3  ID_QUISMWEZR2H4  272.941941\n",
              "4  ID_25JGI455VKCZ  662.240911"
            ]
          },
          "execution_count": 66,
          "metadata": {},
          "output_type": "execute_result"
        }
      ],
      "source": [
        "# Make predictions on the Zindi test set\n",
        "preds = lin_reg.predict(dfTst.fillna(0))\n",
        "\n",
        "# Create submisiion file to be uploaded to Zindi for scoring\n",
        "subs = pd.DataFrame({'ID': dfTst.ID, 'Yield': preds})\n",
        "subs.to_csv('mysubmission5.csv', index = False)\n",
        "\n",
        "subs.head()"
      ]
    },
    {
      "cell_type": "code",
      "execution_count": null,
      "id": "59d4d120",
      "metadata": {
        "id": "59d4d120",
        "outputId": "8e11598f-b23c-4640-ec07-8a51ec8567a2"
      },
      "outputs": [
        {
          "ename": "ValueError",
          "evalue": "A given column is not a column of the dataframe",
          "output_type": "error",
          "traceback": [
            "\u001b[1;31m---------------------------------------------------------------------------\u001b[0m",
            "\u001b[1;31mKeyError\u001b[0m                                  Traceback (most recent call last)",
            "File \u001b[1;32m~\\anaconda3\\lib\\site-packages\\pandas\\core\\indexes\\base.py:3802\u001b[0m, in \u001b[0;36mIndex.get_loc\u001b[1;34m(self, key, method, tolerance)\u001b[0m\n\u001b[0;32m   3801\u001b[0m \u001b[38;5;28;01mtry\u001b[39;00m:\n\u001b[1;32m-> 3802\u001b[0m     \u001b[38;5;28;01mreturn\u001b[39;00m \u001b[38;5;28;43mself\u001b[39;49m\u001b[38;5;241;43m.\u001b[39;49m\u001b[43m_engine\u001b[49m\u001b[38;5;241;43m.\u001b[39;49m\u001b[43mget_loc\u001b[49m\u001b[43m(\u001b[49m\u001b[43mcasted_key\u001b[49m\u001b[43m)\u001b[49m\n\u001b[0;32m   3803\u001b[0m \u001b[38;5;28;01mexcept\u001b[39;00m \u001b[38;5;167;01mKeyError\u001b[39;00m \u001b[38;5;28;01mas\u001b[39;00m err:\n",
            "File \u001b[1;32m~\\anaconda3\\lib\\site-packages\\pandas\\_libs\\index.pyx:138\u001b[0m, in \u001b[0;36mpandas._libs.index.IndexEngine.get_loc\u001b[1;34m()\u001b[0m\n",
            "File \u001b[1;32m~\\anaconda3\\lib\\site-packages\\pandas\\_libs\\index.pyx:165\u001b[0m, in \u001b[0;36mpandas._libs.index.IndexEngine.get_loc\u001b[1;34m()\u001b[0m\n",
            "File \u001b[1;32mpandas\\_libs\\hashtable_class_helper.pxi:5745\u001b[0m, in \u001b[0;36mpandas._libs.hashtable.PyObjectHashTable.get_item\u001b[1;34m()\u001b[0m\n",
            "File \u001b[1;32mpandas\\_libs\\hashtable_class_helper.pxi:5753\u001b[0m, in \u001b[0;36mpandas._libs.hashtable.PyObjectHashTable.get_item\u001b[1;34m()\u001b[0m\n",
            "\u001b[1;31mKeyError\u001b[0m: 'ID'",
            "\nThe above exception was the direct cause of the following exception:\n",
            "\u001b[1;31mKeyError\u001b[0m                                  Traceback (most recent call last)",
            "File \u001b[1;32m~\\anaconda3\\lib\\site-packages\\sklearn\\utils\\__init__.py:448\u001b[0m, in \u001b[0;36m_get_column_indices\u001b[1;34m(X, key)\u001b[0m\n\u001b[0;32m    447\u001b[0m \u001b[38;5;28;01mfor\u001b[39;00m col \u001b[38;5;129;01min\u001b[39;00m columns:\n\u001b[1;32m--> 448\u001b[0m     col_idx \u001b[38;5;241m=\u001b[39m \u001b[43mall_columns\u001b[49m\u001b[38;5;241;43m.\u001b[39;49m\u001b[43mget_loc\u001b[49m\u001b[43m(\u001b[49m\u001b[43mcol\u001b[49m\u001b[43m)\u001b[49m\n\u001b[0;32m    449\u001b[0m     \u001b[38;5;28;01mif\u001b[39;00m \u001b[38;5;129;01mnot\u001b[39;00m \u001b[38;5;28misinstance\u001b[39m(col_idx, numbers\u001b[38;5;241m.\u001b[39mIntegral):\n",
            "File \u001b[1;32m~\\anaconda3\\lib\\site-packages\\pandas\\core\\indexes\\base.py:3804\u001b[0m, in \u001b[0;36mIndex.get_loc\u001b[1;34m(self, key, method, tolerance)\u001b[0m\n\u001b[0;32m   3803\u001b[0m \u001b[38;5;28;01mexcept\u001b[39;00m \u001b[38;5;167;01mKeyError\u001b[39;00m \u001b[38;5;28;01mas\u001b[39;00m err:\n\u001b[1;32m-> 3804\u001b[0m     \u001b[38;5;28;01mraise\u001b[39;00m \u001b[38;5;167;01mKeyError\u001b[39;00m(key) \u001b[38;5;28;01mfrom\u001b[39;00m \u001b[38;5;21;01merr\u001b[39;00m\n\u001b[0;32m   3805\u001b[0m \u001b[38;5;28;01mexcept\u001b[39;00m \u001b[38;5;167;01mTypeError\u001b[39;00m:\n\u001b[0;32m   3806\u001b[0m     \u001b[38;5;66;03m# If we have a listlike key, _check_indexing_error will raise\u001b[39;00m\n\u001b[0;32m   3807\u001b[0m     \u001b[38;5;66;03m#  InvalidIndexError. Otherwise we fall through and re-raise\u001b[39;00m\n\u001b[0;32m   3808\u001b[0m     \u001b[38;5;66;03m#  the TypeError.\u001b[39;00m\n",
            "\u001b[1;31mKeyError\u001b[0m: 'ID'",
            "\nThe above exception was the direct cause of the following exception:\n",
            "\u001b[1;31mValueError\u001b[0m                                Traceback (most recent call last)",
            "Cell \u001b[1;32mIn[93], line 11\u001b[0m\n\u001b[0;32m      4\u001b[0m \u001b[38;5;28;01mfrom\u001b[39;00m \u001b[38;5;21;01msklearn\u001b[39;00m\u001b[38;5;21;01m.\u001b[39;00m\u001b[38;5;21;01mpreprocessing\u001b[39;00m \u001b[38;5;28;01mimport\u001b[39;00m OrdinalEncoder, OneHotEncoder\n\u001b[0;32m      6\u001b[0m hgb_reg \u001b[38;5;241m=\u001b[39m make_pipeline(\n\u001b[0;32m      7\u001b[0m     make_column_transformer(( OneHotEncoder(), [\u001b[38;5;124m\"\u001b[39m\u001b[38;5;124mID\u001b[39m\u001b[38;5;124m\"\u001b[39m]),remainder\u001b[38;5;241m=\u001b[39m\u001b[38;5;124m\"\u001b[39m\u001b[38;5;124mpassthrough\u001b[39m\u001b[38;5;124m\"\u001b[39m),\n\u001b[0;32m      8\u001b[0m                             \n\u001b[0;32m      9\u001b[0m     HistGradientBoostingRegressor(categorical_features\u001b[38;5;241m=\u001b[39m[\u001b[38;5;241m0\u001b[39m], random_state\u001b[38;5;241m=\u001b[39m\u001b[38;5;241m42\u001b[39m)\n\u001b[0;32m     10\u001b[0m )\n\u001b[1;32m---> 11\u001b[0m \u001b[43mhgb_reg\u001b[49m\u001b[38;5;241;43m.\u001b[39;49m\u001b[43mfit\u001b[49m\u001b[43m(\u001b[49m\u001b[43mdfTin\u001b[49m\u001b[38;5;241;43m.\u001b[39;49m\u001b[43mfillna\u001b[49m\u001b[43m(\u001b[49m\u001b[38;5;241;43m0\u001b[39;49m\u001b[43m)\u001b[49m\u001b[43m,\u001b[49m\u001b[43m \u001b[49m\u001b[43mdfTin_labels\u001b[49m\u001b[43m)\u001b[49m\n",
            "File \u001b[1;32m~\\anaconda3\\lib\\site-packages\\sklearn\\pipeline.py:401\u001b[0m, in \u001b[0;36mPipeline.fit\u001b[1;34m(self, X, y, **fit_params)\u001b[0m\n\u001b[0;32m    375\u001b[0m \u001b[38;5;124;03m\"\"\"Fit the model.\u001b[39;00m\n\u001b[0;32m    376\u001b[0m \n\u001b[0;32m    377\u001b[0m \u001b[38;5;124;03mFit all the transformers one after the other and transform the\u001b[39;00m\n\u001b[1;32m   (...)\u001b[0m\n\u001b[0;32m    398\u001b[0m \u001b[38;5;124;03m    Pipeline with fitted steps.\u001b[39;00m\n\u001b[0;32m    399\u001b[0m \u001b[38;5;124;03m\"\"\"\u001b[39;00m\n\u001b[0;32m    400\u001b[0m fit_params_steps \u001b[38;5;241m=\u001b[39m \u001b[38;5;28mself\u001b[39m\u001b[38;5;241m.\u001b[39m_check_fit_params(\u001b[38;5;241m*\u001b[39m\u001b[38;5;241m*\u001b[39mfit_params)\n\u001b[1;32m--> 401\u001b[0m Xt \u001b[38;5;241m=\u001b[39m \u001b[38;5;28mself\u001b[39m\u001b[38;5;241m.\u001b[39m_fit(X, y, \u001b[38;5;241m*\u001b[39m\u001b[38;5;241m*\u001b[39mfit_params_steps)\n\u001b[0;32m    402\u001b[0m \u001b[38;5;28;01mwith\u001b[39;00m _print_elapsed_time(\u001b[38;5;124m\"\u001b[39m\u001b[38;5;124mPipeline\u001b[39m\u001b[38;5;124m\"\u001b[39m, \u001b[38;5;28mself\u001b[39m\u001b[38;5;241m.\u001b[39m_log_message(\u001b[38;5;28mlen\u001b[39m(\u001b[38;5;28mself\u001b[39m\u001b[38;5;241m.\u001b[39msteps) \u001b[38;5;241m-\u001b[39m \u001b[38;5;241m1\u001b[39m)):\n\u001b[0;32m    403\u001b[0m     \u001b[38;5;28;01mif\u001b[39;00m \u001b[38;5;28mself\u001b[39m\u001b[38;5;241m.\u001b[39m_final_estimator \u001b[38;5;241m!=\u001b[39m \u001b[38;5;124m\"\u001b[39m\u001b[38;5;124mpassthrough\u001b[39m\u001b[38;5;124m\"\u001b[39m:\n",
            "File \u001b[1;32m~\\anaconda3\\lib\\site-packages\\sklearn\\pipeline.py:359\u001b[0m, in \u001b[0;36mPipeline._fit\u001b[1;34m(self, X, y, **fit_params_steps)\u001b[0m\n\u001b[0;32m    357\u001b[0m     cloned_transformer \u001b[38;5;241m=\u001b[39m clone(transformer)\n\u001b[0;32m    358\u001b[0m \u001b[38;5;66;03m# Fit or load from cache the current transformer\u001b[39;00m\n\u001b[1;32m--> 359\u001b[0m X, fitted_transformer \u001b[38;5;241m=\u001b[39m fit_transform_one_cached(\n\u001b[0;32m    360\u001b[0m     cloned_transformer,\n\u001b[0;32m    361\u001b[0m     X,\n\u001b[0;32m    362\u001b[0m     y,\n\u001b[0;32m    363\u001b[0m     \u001b[38;5;28;01mNone\u001b[39;00m,\n\u001b[0;32m    364\u001b[0m     message_clsname\u001b[38;5;241m=\u001b[39m\u001b[38;5;124m\"\u001b[39m\u001b[38;5;124mPipeline\u001b[39m\u001b[38;5;124m\"\u001b[39m,\n\u001b[0;32m    365\u001b[0m     message\u001b[38;5;241m=\u001b[39m\u001b[38;5;28mself\u001b[39m\u001b[38;5;241m.\u001b[39m_log_message(step_idx),\n\u001b[0;32m    366\u001b[0m     \u001b[38;5;241m*\u001b[39m\u001b[38;5;241m*\u001b[39mfit_params_steps[name],\n\u001b[0;32m    367\u001b[0m )\n\u001b[0;32m    368\u001b[0m \u001b[38;5;66;03m# Replace the transformer of the step with the fitted\u001b[39;00m\n\u001b[0;32m    369\u001b[0m \u001b[38;5;66;03m# transformer. This is necessary when loading the transformer\u001b[39;00m\n\u001b[0;32m    370\u001b[0m \u001b[38;5;66;03m# from the cache.\u001b[39;00m\n\u001b[0;32m    371\u001b[0m \u001b[38;5;28mself\u001b[39m\u001b[38;5;241m.\u001b[39msteps[step_idx] \u001b[38;5;241m=\u001b[39m (name, fitted_transformer)\n",
            "File \u001b[1;32m~\\anaconda3\\lib\\site-packages\\joblib\\memory.py:349\u001b[0m, in \u001b[0;36mNotMemorizedFunc.__call__\u001b[1;34m(self, *args, **kwargs)\u001b[0m\n\u001b[0;32m    348\u001b[0m \u001b[38;5;28;01mdef\u001b[39;00m \u001b[38;5;21m__call__\u001b[39m(\u001b[38;5;28mself\u001b[39m, \u001b[38;5;241m*\u001b[39margs, \u001b[38;5;241m*\u001b[39m\u001b[38;5;241m*\u001b[39mkwargs):\n\u001b[1;32m--> 349\u001b[0m     \u001b[38;5;28;01mreturn\u001b[39;00m \u001b[38;5;28mself\u001b[39m\u001b[38;5;241m.\u001b[39mfunc(\u001b[38;5;241m*\u001b[39margs, \u001b[38;5;241m*\u001b[39m\u001b[38;5;241m*\u001b[39mkwargs)\n",
            "File \u001b[1;32m~\\anaconda3\\lib\\site-packages\\sklearn\\pipeline.py:893\u001b[0m, in \u001b[0;36m_fit_transform_one\u001b[1;34m(transformer, X, y, weight, message_clsname, message, **fit_params)\u001b[0m\n\u001b[0;32m    891\u001b[0m \u001b[38;5;28;01mwith\u001b[39;00m _print_elapsed_time(message_clsname, message):\n\u001b[0;32m    892\u001b[0m     \u001b[38;5;28;01mif\u001b[39;00m \u001b[38;5;28mhasattr\u001b[39m(transformer, \u001b[38;5;124m\"\u001b[39m\u001b[38;5;124mfit_transform\u001b[39m\u001b[38;5;124m\"\u001b[39m):\n\u001b[1;32m--> 893\u001b[0m         res \u001b[38;5;241m=\u001b[39m transformer\u001b[38;5;241m.\u001b[39mfit_transform(X, y, \u001b[38;5;241m*\u001b[39m\u001b[38;5;241m*\u001b[39mfit_params)\n\u001b[0;32m    894\u001b[0m     \u001b[38;5;28;01melse\u001b[39;00m:\n\u001b[0;32m    895\u001b[0m         res \u001b[38;5;241m=\u001b[39m transformer\u001b[38;5;241m.\u001b[39mfit(X, y, \u001b[38;5;241m*\u001b[39m\u001b[38;5;241m*\u001b[39mfit_params)\u001b[38;5;241m.\u001b[39mtransform(X)\n",
            "File \u001b[1;32m~\\anaconda3\\lib\\site-packages\\sklearn\\utils\\_set_output.py:142\u001b[0m, in \u001b[0;36m_wrap_method_output.<locals>.wrapped\u001b[1;34m(self, X, *args, **kwargs)\u001b[0m\n\u001b[0;32m    140\u001b[0m \u001b[38;5;129m@wraps\u001b[39m(f)\n\u001b[0;32m    141\u001b[0m \u001b[38;5;28;01mdef\u001b[39;00m \u001b[38;5;21mwrapped\u001b[39m(\u001b[38;5;28mself\u001b[39m, X, \u001b[38;5;241m*\u001b[39margs, \u001b[38;5;241m*\u001b[39m\u001b[38;5;241m*\u001b[39mkwargs):\n\u001b[1;32m--> 142\u001b[0m     data_to_wrap \u001b[38;5;241m=\u001b[39m f(\u001b[38;5;28mself\u001b[39m, X, \u001b[38;5;241m*\u001b[39margs, \u001b[38;5;241m*\u001b[39m\u001b[38;5;241m*\u001b[39mkwargs)\n\u001b[0;32m    143\u001b[0m     \u001b[38;5;28;01mif\u001b[39;00m \u001b[38;5;28misinstance\u001b[39m(data_to_wrap, \u001b[38;5;28mtuple\u001b[39m):\n\u001b[0;32m    144\u001b[0m         \u001b[38;5;66;03m# only wrap the first output for cross decomposition\u001b[39;00m\n\u001b[0;32m    145\u001b[0m         \u001b[38;5;28;01mreturn\u001b[39;00m (\n\u001b[0;32m    146\u001b[0m             _wrap_data_with_container(method, data_to_wrap[\u001b[38;5;241m0\u001b[39m], X, \u001b[38;5;28mself\u001b[39m),\n\u001b[0;32m    147\u001b[0m             \u001b[38;5;241m*\u001b[39mdata_to_wrap[\u001b[38;5;241m1\u001b[39m:],\n\u001b[0;32m    148\u001b[0m         )\n",
            "File \u001b[1;32m~\\anaconda3\\lib\\site-packages\\sklearn\\compose\\_column_transformer.py:724\u001b[0m, in \u001b[0;36mColumnTransformer.fit_transform\u001b[1;34m(self, X, y)\u001b[0m\n\u001b[0;32m    722\u001b[0m \u001b[38;5;28mself\u001b[39m\u001b[38;5;241m.\u001b[39m_check_n_features(X, reset\u001b[38;5;241m=\u001b[39m\u001b[38;5;28;01mTrue\u001b[39;00m)\n\u001b[0;32m    723\u001b[0m \u001b[38;5;28mself\u001b[39m\u001b[38;5;241m.\u001b[39m_validate_transformers()\n\u001b[1;32m--> 724\u001b[0m \u001b[38;5;28;43mself\u001b[39;49m\u001b[38;5;241;43m.\u001b[39;49m\u001b[43m_validate_column_callables\u001b[49m\u001b[43m(\u001b[49m\u001b[43mX\u001b[49m\u001b[43m)\u001b[49m\n\u001b[0;32m    725\u001b[0m \u001b[38;5;28mself\u001b[39m\u001b[38;5;241m.\u001b[39m_validate_remainder(X)\n\u001b[0;32m    727\u001b[0m result \u001b[38;5;241m=\u001b[39m \u001b[38;5;28mself\u001b[39m\u001b[38;5;241m.\u001b[39m_fit_transform(X, y, _fit_transform_one)\n",
            "File \u001b[1;32m~\\anaconda3\\lib\\site-packages\\sklearn\\compose\\_column_transformer.py:426\u001b[0m, in \u001b[0;36mColumnTransformer._validate_column_callables\u001b[1;34m(self, X)\u001b[0m\n\u001b[0;32m    424\u001b[0m         columns \u001b[38;5;241m=\u001b[39m columns(X)\n\u001b[0;32m    425\u001b[0m     all_columns\u001b[38;5;241m.\u001b[39mappend(columns)\n\u001b[1;32m--> 426\u001b[0m     transformer_to_input_indices[name] \u001b[38;5;241m=\u001b[39m \u001b[43m_get_column_indices\u001b[49m\u001b[43m(\u001b[49m\u001b[43mX\u001b[49m\u001b[43m,\u001b[49m\u001b[43m \u001b[49m\u001b[43mcolumns\u001b[49m\u001b[43m)\u001b[49m\n\u001b[0;32m    428\u001b[0m \u001b[38;5;28mself\u001b[39m\u001b[38;5;241m.\u001b[39m_columns \u001b[38;5;241m=\u001b[39m all_columns\n\u001b[0;32m    429\u001b[0m \u001b[38;5;28mself\u001b[39m\u001b[38;5;241m.\u001b[39m_transformer_to_input_indices \u001b[38;5;241m=\u001b[39m transformer_to_input_indices\n",
            "File \u001b[1;32m~\\anaconda3\\lib\\site-packages\\sklearn\\utils\\__init__.py:456\u001b[0m, in \u001b[0;36m_get_column_indices\u001b[1;34m(X, key)\u001b[0m\n\u001b[0;32m    453\u001b[0m             column_indices\u001b[38;5;241m.\u001b[39mappend(col_idx)\n\u001b[0;32m    455\u001b[0m     \u001b[38;5;28;01mexcept\u001b[39;00m \u001b[38;5;167;01mKeyError\u001b[39;00m \u001b[38;5;28;01mas\u001b[39;00m e:\n\u001b[1;32m--> 456\u001b[0m         \u001b[38;5;28;01mraise\u001b[39;00m \u001b[38;5;167;01mValueError\u001b[39;00m(\u001b[38;5;124m\"\u001b[39m\u001b[38;5;124mA given column is not a column of the dataframe\u001b[39m\u001b[38;5;124m\"\u001b[39m) \u001b[38;5;28;01mfrom\u001b[39;00m \u001b[38;5;21;01me\u001b[39;00m\n\u001b[0;32m    458\u001b[0m     \u001b[38;5;28;01mreturn\u001b[39;00m column_indices\n\u001b[0;32m    459\u001b[0m \u001b[38;5;28;01melse\u001b[39;00m:\n",
            "\u001b[1;31mValueError\u001b[0m: A given column is not a column of the dataframe"
          ]
        }
      ],
      "source": [
        "from sklearn.pipeline import make_pipeline\n",
        "from sklearn.compose import make_column_transformer\n",
        "from sklearn.ensemble import HistGradientBoostingRegressor\n",
        "from sklearn.preprocessing import OrdinalEncoder, OneHotEncoder\n",
        "\n",
        "hgb_reg = make_pipeline(\n",
        "    make_column_transformer(( OneHotEncoder(), [\"ID\"]),remainder=\"passthrough\"),\n",
        "\n",
        "    HistGradientBoostingRegressor(categorical_features=[0], random_state=42)\n",
        ")\n",
        "hgb_reg.fit(dfTin.fillna(0), dfTin_labels)"
      ]
    },
    {
      "cell_type": "code",
      "execution_count": null,
      "id": "bbc536bf",
      "metadata": {
        "id": "bbc536bf",
        "outputId": "28ef21d4-d729-43e4-8b16-8870e970c276"
      },
      "outputs": [
        {
          "data": {
            "text/plain": [
              "count    0.0\n",
              "mean     NaN\n",
              "std      NaN\n",
              "min      NaN\n",
              "25%      NaN\n",
              "50%      NaN\n",
              "75%      NaN\n",
              "max      NaN\n",
              "dtype: float64"
            ]
          },
          "execution_count": 72,
          "metadata": {},
          "output_type": "execute_result"
        }
      ],
      "source": [
        "# extra code – evaluate the RMSE stats for the hgb_reg model\n",
        "\n",
        "from sklearn.model_selection import cross_val_score\n",
        "\n",
        "hgb_rmses = -cross_val_score(hgb_reg, dfTin.fillna(0), dfTin_labels,\n",
        "                             scoring=\"neg_root_mean_squared_error\", cv=10)\n",
        "pd.Series(hgb_rmses).describe()"
      ]
    },
    {
      "cell_type": "code",
      "execution_count": null,
      "id": "af393324",
      "metadata": {
        "id": "af393324"
      },
      "outputs": [],
      "source": []
    }
  ],
  "metadata": {
    "kernelspec": {
      "display_name": "Python 3 (ipykernel)",
      "language": "python",
      "name": "python3"
    },
    "language_info": {
      "codemirror_mode": {
        "name": "ipython",
        "version": 3
      },
      "file_extension": ".py",
      "mimetype": "text/x-python",
      "name": "python",
      "nbconvert_exporter": "python",
      "pygments_lexer": "ipython3",
      "version": "3.10.11"
    },
    "colab": {
      "provenance": []
    }
  },
  "nbformat": 4,
  "nbformat_minor": 5
}